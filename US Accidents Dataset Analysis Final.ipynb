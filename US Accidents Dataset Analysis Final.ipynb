{
 "cells": [
  {
   "cell_type": "markdown",
   "id": "8c72e8fa",
   "metadata": {},
   "source": [
    "### USA Accidents Dataset <a href = \"https://www.kaggle.com/sobhanmoosavi/us-accidents\">(Kaggle)</a>\n",
    "* For more information about the dataset, <a href = \"https://smoosavi.org/datasets/us_accidents\">click here</a>"
   ]
  },
  {
   "cell_type": "code",
   "execution_count": 82,
   "id": "9e4b7ec0",
   "metadata": {},
   "outputs": [],
   "source": [
    "import numpy as np\n",
    "import pandas as pd\n",
    "import matplotlib.pyplot as plt\n",
    "import seaborn as sns\n",
    "%matplotlib inline"
   ]
  },
  {
   "cell_type": "code",
   "execution_count": 83,
   "id": "ac10420c",
   "metadata": {},
   "outputs": [],
   "source": [
    "df = pd.read_csv('US_Accidents_Dec20_updated.csv')"
   ]
  },
  {
   "cell_type": "code",
   "execution_count": 84,
   "id": "fbe798aa",
   "metadata": {
    "scrolled": false
   },
   "outputs": [
    {
     "data": {
      "text/html": [
       "<div>\n",
       "<style scoped>\n",
       "    .dataframe tbody tr th:only-of-type {\n",
       "        vertical-align: middle;\n",
       "    }\n",
       "\n",
       "    .dataframe tbody tr th {\n",
       "        vertical-align: top;\n",
       "    }\n",
       "\n",
       "    .dataframe thead th {\n",
       "        text-align: right;\n",
       "    }\n",
       "</style>\n",
       "<table border=\"1\" class=\"dataframe\">\n",
       "  <thead>\n",
       "    <tr style=\"text-align: right;\">\n",
       "      <th></th>\n",
       "      <th>ID</th>\n",
       "      <th>Severity</th>\n",
       "      <th>Start_Time</th>\n",
       "      <th>End_Time</th>\n",
       "      <th>Start_Lat</th>\n",
       "      <th>Start_Lng</th>\n",
       "      <th>End_Lat</th>\n",
       "      <th>End_Lng</th>\n",
       "      <th>Distance(mi)</th>\n",
       "      <th>Description</th>\n",
       "      <th>...</th>\n",
       "      <th>Roundabout</th>\n",
       "      <th>Station</th>\n",
       "      <th>Stop</th>\n",
       "      <th>Traffic_Calming</th>\n",
       "      <th>Traffic_Signal</th>\n",
       "      <th>Turning_Loop</th>\n",
       "      <th>Sunrise_Sunset</th>\n",
       "      <th>Civil_Twilight</th>\n",
       "      <th>Nautical_Twilight</th>\n",
       "      <th>Astronomical_Twilight</th>\n",
       "    </tr>\n",
       "  </thead>\n",
       "  <tbody>\n",
       "    <tr>\n",
       "      <th>0</th>\n",
       "      <td>A-2716600</td>\n",
       "      <td>3</td>\n",
       "      <td>2016-02-08 00:37:08</td>\n",
       "      <td>2016-02-08 06:37:08</td>\n",
       "      <td>40.10891</td>\n",
       "      <td>-83.09286</td>\n",
       "      <td>40.11206</td>\n",
       "      <td>-83.03187</td>\n",
       "      <td>3.230</td>\n",
       "      <td>Between Sawmill Rd/Exit 20 and OH-315/Olentang...</td>\n",
       "      <td>...</td>\n",
       "      <td>False</td>\n",
       "      <td>False</td>\n",
       "      <td>False</td>\n",
       "      <td>False</td>\n",
       "      <td>False</td>\n",
       "      <td>False</td>\n",
       "      <td>Night</td>\n",
       "      <td>Night</td>\n",
       "      <td>Night</td>\n",
       "      <td>Night</td>\n",
       "    </tr>\n",
       "    <tr>\n",
       "      <th>1</th>\n",
       "      <td>A-2716601</td>\n",
       "      <td>2</td>\n",
       "      <td>2016-02-08 05:56:20</td>\n",
       "      <td>2016-02-08 11:56:20</td>\n",
       "      <td>39.86542</td>\n",
       "      <td>-84.06280</td>\n",
       "      <td>39.86501</td>\n",
       "      <td>-84.04873</td>\n",
       "      <td>0.747</td>\n",
       "      <td>At OH-4/OH-235/Exit 41 - Accident.</td>\n",
       "      <td>...</td>\n",
       "      <td>False</td>\n",
       "      <td>False</td>\n",
       "      <td>False</td>\n",
       "      <td>False</td>\n",
       "      <td>False</td>\n",
       "      <td>False</td>\n",
       "      <td>Night</td>\n",
       "      <td>Night</td>\n",
       "      <td>Night</td>\n",
       "      <td>Night</td>\n",
       "    </tr>\n",
       "    <tr>\n",
       "      <th>2</th>\n",
       "      <td>A-2716602</td>\n",
       "      <td>2</td>\n",
       "      <td>2016-02-08 06:15:39</td>\n",
       "      <td>2016-02-08 12:15:39</td>\n",
       "      <td>39.10266</td>\n",
       "      <td>-84.52468</td>\n",
       "      <td>39.10209</td>\n",
       "      <td>-84.52396</td>\n",
       "      <td>0.055</td>\n",
       "      <td>At I-71/US-50/Exit 1 - Accident.</td>\n",
       "      <td>...</td>\n",
       "      <td>False</td>\n",
       "      <td>False</td>\n",
       "      <td>False</td>\n",
       "      <td>False</td>\n",
       "      <td>False</td>\n",
       "      <td>False</td>\n",
       "      <td>Night</td>\n",
       "      <td>Night</td>\n",
       "      <td>Night</td>\n",
       "      <td>Day</td>\n",
       "    </tr>\n",
       "    <tr>\n",
       "      <th>3</th>\n",
       "      <td>A-2716603</td>\n",
       "      <td>2</td>\n",
       "      <td>2016-02-08 06:15:39</td>\n",
       "      <td>2016-02-08 12:15:39</td>\n",
       "      <td>39.10148</td>\n",
       "      <td>-84.52341</td>\n",
       "      <td>39.09841</td>\n",
       "      <td>-84.52241</td>\n",
       "      <td>0.219</td>\n",
       "      <td>At I-71/US-50/Exit 1 - Accident.</td>\n",
       "      <td>...</td>\n",
       "      <td>False</td>\n",
       "      <td>False</td>\n",
       "      <td>False</td>\n",
       "      <td>False</td>\n",
       "      <td>False</td>\n",
       "      <td>False</td>\n",
       "      <td>Night</td>\n",
       "      <td>Night</td>\n",
       "      <td>Night</td>\n",
       "      <td>Day</td>\n",
       "    </tr>\n",
       "    <tr>\n",
       "      <th>4</th>\n",
       "      <td>A-2716604</td>\n",
       "      <td>2</td>\n",
       "      <td>2016-02-08 06:51:45</td>\n",
       "      <td>2016-02-08 12:51:45</td>\n",
       "      <td>41.06213</td>\n",
       "      <td>-81.53784</td>\n",
       "      <td>41.06217</td>\n",
       "      <td>-81.53547</td>\n",
       "      <td>0.123</td>\n",
       "      <td>At Dart Ave/Exit 21 - Accident.</td>\n",
       "      <td>...</td>\n",
       "      <td>False</td>\n",
       "      <td>False</td>\n",
       "      <td>False</td>\n",
       "      <td>False</td>\n",
       "      <td>False</td>\n",
       "      <td>False</td>\n",
       "      <td>Night</td>\n",
       "      <td>Night</td>\n",
       "      <td>Day</td>\n",
       "      <td>Day</td>\n",
       "    </tr>\n",
       "  </tbody>\n",
       "</table>\n",
       "<p>5 rows × 47 columns</p>\n",
       "</div>"
      ],
      "text/plain": [
       "          ID  Severity           Start_Time             End_Time  Start_Lat  \\\n",
       "0  A-2716600         3  2016-02-08 00:37:08  2016-02-08 06:37:08   40.10891   \n",
       "1  A-2716601         2  2016-02-08 05:56:20  2016-02-08 11:56:20   39.86542   \n",
       "2  A-2716602         2  2016-02-08 06:15:39  2016-02-08 12:15:39   39.10266   \n",
       "3  A-2716603         2  2016-02-08 06:15:39  2016-02-08 12:15:39   39.10148   \n",
       "4  A-2716604         2  2016-02-08 06:51:45  2016-02-08 12:51:45   41.06213   \n",
       "\n",
       "   Start_Lng   End_Lat   End_Lng  Distance(mi)  \\\n",
       "0  -83.09286  40.11206 -83.03187         3.230   \n",
       "1  -84.06280  39.86501 -84.04873         0.747   \n",
       "2  -84.52468  39.10209 -84.52396         0.055   \n",
       "3  -84.52341  39.09841 -84.52241         0.219   \n",
       "4  -81.53784  41.06217 -81.53547         0.123   \n",
       "\n",
       "                                         Description  ...  Roundabout Station  \\\n",
       "0  Between Sawmill Rd/Exit 20 and OH-315/Olentang...  ...       False   False   \n",
       "1                 At OH-4/OH-235/Exit 41 - Accident.  ...       False   False   \n",
       "2                   At I-71/US-50/Exit 1 - Accident.  ...       False   False   \n",
       "3                   At I-71/US-50/Exit 1 - Accident.  ...       False   False   \n",
       "4                    At Dart Ave/Exit 21 - Accident.  ...       False   False   \n",
       "\n",
       "    Stop Traffic_Calming Traffic_Signal Turning_Loop Sunrise_Sunset  \\\n",
       "0  False           False          False        False          Night   \n",
       "1  False           False          False        False          Night   \n",
       "2  False           False          False        False          Night   \n",
       "3  False           False          False        False          Night   \n",
       "4  False           False          False        False          Night   \n",
       "\n",
       "  Civil_Twilight Nautical_Twilight Astronomical_Twilight  \n",
       "0          Night             Night                 Night  \n",
       "1          Night             Night                 Night  \n",
       "2          Night             Night                   Day  \n",
       "3          Night             Night                   Day  \n",
       "4          Night               Day                   Day  \n",
       "\n",
       "[5 rows x 47 columns]"
      ]
     },
     "execution_count": 84,
     "metadata": {},
     "output_type": "execute_result"
    }
   ],
   "source": [
    "df.head()"
   ]
  },
  {
   "cell_type": "code",
   "execution_count": 85,
   "id": "e04c865d",
   "metadata": {
    "scrolled": false
   },
   "outputs": [
    {
     "name": "stdout",
     "output_type": "stream",
     "text": [
      "<class 'pandas.core.frame.DataFrame'>\n",
      "RangeIndex: 1516064 entries, 0 to 1516063\n",
      "Data columns (total 47 columns):\n",
      " #   Column                 Non-Null Count    Dtype  \n",
      "---  ------                 --------------    -----  \n",
      " 0   ID                     1516064 non-null  object \n",
      " 1   Severity               1516064 non-null  int64  \n",
      " 2   Start_Time             1516064 non-null  object \n",
      " 3   End_Time               1516064 non-null  object \n",
      " 4   Start_Lat              1516064 non-null  float64\n",
      " 5   Start_Lng              1516064 non-null  float64\n",
      " 6   End_Lat                1516064 non-null  float64\n",
      " 7   End_Lng                1516064 non-null  float64\n",
      " 8   Distance(mi)           1516064 non-null  float64\n",
      " 9   Description            1516064 non-null  object \n",
      " 10  Number                 469969 non-null   float64\n",
      " 11  Street                 1516064 non-null  object \n",
      " 12  Side                   1516064 non-null  object \n",
      " 13  City                   1515981 non-null  object \n",
      " 14  County                 1516064 non-null  object \n",
      " 15  State                  1516064 non-null  object \n",
      " 16  Zipcode                1515129 non-null  object \n",
      " 17  Country                1516064 non-null  object \n",
      " 18  Timezone               1513762 non-null  object \n",
      " 19  Airport_Code           1511816 non-null  object \n",
      " 20  Weather_Timestamp      1485800 non-null  object \n",
      " 21  Temperature(F)         1473031 non-null  float64\n",
      " 22  Wind_Chill(F)          1066748 non-null  float64\n",
      " 23  Humidity(%)            1470555 non-null  float64\n",
      " 24  Pressure(in)           1479790 non-null  float64\n",
      " 25  Visibility(mi)         1471853 non-null  float64\n",
      " 26  Wind_Direction         1474206 non-null  object \n",
      " 27  Wind_Speed(mph)        1387202 non-null  float64\n",
      " 28  Precipitation(in)      1005515 non-null  float64\n",
      " 29  Weather_Condition      1472057 non-null  object \n",
      " 30  Amenity                1516064 non-null  bool   \n",
      " 31  Bump                   1516064 non-null  bool   \n",
      " 32  Crossing               1516064 non-null  bool   \n",
      " 33  Give_Way               1516064 non-null  bool   \n",
      " 34  Junction               1516064 non-null  bool   \n",
      " 35  No_Exit                1516064 non-null  bool   \n",
      " 36  Railway                1516064 non-null  bool   \n",
      " 37  Roundabout             1516064 non-null  bool   \n",
      " 38  Station                1516064 non-null  bool   \n",
      " 39  Stop                   1516064 non-null  bool   \n",
      " 40  Traffic_Calming        1516064 non-null  bool   \n",
      " 41  Traffic_Signal         1516064 non-null  bool   \n",
      " 42  Turning_Loop           1516064 non-null  bool   \n",
      " 43  Sunrise_Sunset         1515981 non-null  object \n",
      " 44  Civil_Twilight         1515981 non-null  object \n",
      " 45  Nautical_Twilight      1515981 non-null  object \n",
      " 46  Astronomical_Twilight  1515981 non-null  object \n",
      "dtypes: bool(13), float64(13), int64(1), object(20)\n",
      "memory usage: 412.1+ MB\n"
     ]
    }
   ],
   "source": [
    "df.info()"
   ]
  },
  {
   "cell_type": "markdown",
   "id": "55f53e46",
   "metadata": {},
   "source": [
    "## Replacing the Missing Values"
   ]
  },
  {
   "cell_type": "code",
   "execution_count": 86,
   "id": "7c2133cd",
   "metadata": {},
   "outputs": [],
   "source": [
    "import sidetable"
   ]
  },
  {
   "cell_type": "code",
   "execution_count": 87,
   "id": "3d69a08a",
   "metadata": {
    "scrolled": false
   },
   "outputs": [
    {
     "data": {
      "text/html": [
       "<div>\n",
       "<style scoped>\n",
       "    .dataframe tbody tr th:only-of-type {\n",
       "        vertical-align: middle;\n",
       "    }\n",
       "\n",
       "    .dataframe tbody tr th {\n",
       "        vertical-align: top;\n",
       "    }\n",
       "\n",
       "    .dataframe thead th {\n",
       "        text-align: right;\n",
       "    }\n",
       "</style>\n",
       "<table border=\"1\" class=\"dataframe\">\n",
       "  <thead>\n",
       "    <tr style=\"text-align: right;\">\n",
       "      <th></th>\n",
       "      <th>missing</th>\n",
       "      <th>total</th>\n",
       "      <th>percent</th>\n",
       "    </tr>\n",
       "  </thead>\n",
       "  <tbody>\n",
       "    <tr>\n",
       "      <th>Number</th>\n",
       "      <td>1046095</td>\n",
       "      <td>1516064</td>\n",
       "      <td>69.000715</td>\n",
       "    </tr>\n",
       "    <tr>\n",
       "      <th>Precipitation(in)</th>\n",
       "      <td>510549</td>\n",
       "      <td>1516064</td>\n",
       "      <td>33.675953</td>\n",
       "    </tr>\n",
       "    <tr>\n",
       "      <th>Wind_Chill(F)</th>\n",
       "      <td>449316</td>\n",
       "      <td>1516064</td>\n",
       "      <td>29.637007</td>\n",
       "    </tr>\n",
       "    <tr>\n",
       "      <th>Wind_Speed(mph)</th>\n",
       "      <td>128862</td>\n",
       "      <td>1516064</td>\n",
       "      <td>8.499773</td>\n",
       "    </tr>\n",
       "    <tr>\n",
       "      <th>Humidity(%)</th>\n",
       "      <td>45509</td>\n",
       "      <td>1516064</td>\n",
       "      <td>3.001786</td>\n",
       "    </tr>\n",
       "    <tr>\n",
       "      <th>Visibility(mi)</th>\n",
       "      <td>44211</td>\n",
       "      <td>1516064</td>\n",
       "      <td>2.916170</td>\n",
       "    </tr>\n",
       "    <tr>\n",
       "      <th>Weather_Condition</th>\n",
       "      <td>44007</td>\n",
       "      <td>1516064</td>\n",
       "      <td>2.902714</td>\n",
       "    </tr>\n",
       "    <tr>\n",
       "      <th>Temperature(F)</th>\n",
       "      <td>43033</td>\n",
       "      <td>1516064</td>\n",
       "      <td>2.838469</td>\n",
       "    </tr>\n",
       "    <tr>\n",
       "      <th>Wind_Direction</th>\n",
       "      <td>41858</td>\n",
       "      <td>1516064</td>\n",
       "      <td>2.760965</td>\n",
       "    </tr>\n",
       "    <tr>\n",
       "      <th>Pressure(in)</th>\n",
       "      <td>36274</td>\n",
       "      <td>1516064</td>\n",
       "      <td>2.392643</td>\n",
       "    </tr>\n",
       "    <tr>\n",
       "      <th>Weather_Timestamp</th>\n",
       "      <td>30264</td>\n",
       "      <td>1516064</td>\n",
       "      <td>1.996222</td>\n",
       "    </tr>\n",
       "    <tr>\n",
       "      <th>Airport_Code</th>\n",
       "      <td>4248</td>\n",
       "      <td>1516064</td>\n",
       "      <td>0.280199</td>\n",
       "    </tr>\n",
       "    <tr>\n",
       "      <th>Timezone</th>\n",
       "      <td>2302</td>\n",
       "      <td>1516064</td>\n",
       "      <td>0.151841</td>\n",
       "    </tr>\n",
       "    <tr>\n",
       "      <th>Zipcode</th>\n",
       "      <td>935</td>\n",
       "      <td>1516064</td>\n",
       "      <td>0.061673</td>\n",
       "    </tr>\n",
       "    <tr>\n",
       "      <th>Sunrise_Sunset</th>\n",
       "      <td>83</td>\n",
       "      <td>1516064</td>\n",
       "      <td>0.005475</td>\n",
       "    </tr>\n",
       "    <tr>\n",
       "      <th>Civil_Twilight</th>\n",
       "      <td>83</td>\n",
       "      <td>1516064</td>\n",
       "      <td>0.005475</td>\n",
       "    </tr>\n",
       "    <tr>\n",
       "      <th>Nautical_Twilight</th>\n",
       "      <td>83</td>\n",
       "      <td>1516064</td>\n",
       "      <td>0.005475</td>\n",
       "    </tr>\n",
       "    <tr>\n",
       "      <th>Astronomical_Twilight</th>\n",
       "      <td>83</td>\n",
       "      <td>1516064</td>\n",
       "      <td>0.005475</td>\n",
       "    </tr>\n",
       "    <tr>\n",
       "      <th>City</th>\n",
       "      <td>83</td>\n",
       "      <td>1516064</td>\n",
       "      <td>0.005475</td>\n",
       "    </tr>\n",
       "    <tr>\n",
       "      <th>Country</th>\n",
       "      <td>0</td>\n",
       "      <td>1516064</td>\n",
       "      <td>0.000000</td>\n",
       "    </tr>\n",
       "    <tr>\n",
       "      <th>Give_Way</th>\n",
       "      <td>0</td>\n",
       "      <td>1516064</td>\n",
       "      <td>0.000000</td>\n",
       "    </tr>\n",
       "    <tr>\n",
       "      <th>Start_Time</th>\n",
       "      <td>0</td>\n",
       "      <td>1516064</td>\n",
       "      <td>0.000000</td>\n",
       "    </tr>\n",
       "    <tr>\n",
       "      <th>End_Time</th>\n",
       "      <td>0</td>\n",
       "      <td>1516064</td>\n",
       "      <td>0.000000</td>\n",
       "    </tr>\n",
       "    <tr>\n",
       "      <th>Start_Lat</th>\n",
       "      <td>0</td>\n",
       "      <td>1516064</td>\n",
       "      <td>0.000000</td>\n",
       "    </tr>\n",
       "    <tr>\n",
       "      <th>Turning_Loop</th>\n",
       "      <td>0</td>\n",
       "      <td>1516064</td>\n",
       "      <td>0.000000</td>\n",
       "    </tr>\n",
       "    <tr>\n",
       "      <th>Traffic_Signal</th>\n",
       "      <td>0</td>\n",
       "      <td>1516064</td>\n",
       "      <td>0.000000</td>\n",
       "    </tr>\n",
       "    <tr>\n",
       "      <th>Traffic_Calming</th>\n",
       "      <td>0</td>\n",
       "      <td>1516064</td>\n",
       "      <td>0.000000</td>\n",
       "    </tr>\n",
       "    <tr>\n",
       "      <th>Stop</th>\n",
       "      <td>0</td>\n",
       "      <td>1516064</td>\n",
       "      <td>0.000000</td>\n",
       "    </tr>\n",
       "    <tr>\n",
       "      <th>Station</th>\n",
       "      <td>0</td>\n",
       "      <td>1516064</td>\n",
       "      <td>0.000000</td>\n",
       "    </tr>\n",
       "    <tr>\n",
       "      <th>Roundabout</th>\n",
       "      <td>0</td>\n",
       "      <td>1516064</td>\n",
       "      <td>0.000000</td>\n",
       "    </tr>\n",
       "    <tr>\n",
       "      <th>Railway</th>\n",
       "      <td>0</td>\n",
       "      <td>1516064</td>\n",
       "      <td>0.000000</td>\n",
       "    </tr>\n",
       "    <tr>\n",
       "      <th>No_Exit</th>\n",
       "      <td>0</td>\n",
       "      <td>1516064</td>\n",
       "      <td>0.000000</td>\n",
       "    </tr>\n",
       "    <tr>\n",
       "      <th>Junction</th>\n",
       "      <td>0</td>\n",
       "      <td>1516064</td>\n",
       "      <td>0.000000</td>\n",
       "    </tr>\n",
       "    <tr>\n",
       "      <th>Crossing</th>\n",
       "      <td>0</td>\n",
       "      <td>1516064</td>\n",
       "      <td>0.000000</td>\n",
       "    </tr>\n",
       "    <tr>\n",
       "      <th>State</th>\n",
       "      <td>0</td>\n",
       "      <td>1516064</td>\n",
       "      <td>0.000000</td>\n",
       "    </tr>\n",
       "    <tr>\n",
       "      <th>Bump</th>\n",
       "      <td>0</td>\n",
       "      <td>1516064</td>\n",
       "      <td>0.000000</td>\n",
       "    </tr>\n",
       "    <tr>\n",
       "      <th>Amenity</th>\n",
       "      <td>0</td>\n",
       "      <td>1516064</td>\n",
       "      <td>0.000000</td>\n",
       "    </tr>\n",
       "    <tr>\n",
       "      <th>Start_Lng</th>\n",
       "      <td>0</td>\n",
       "      <td>1516064</td>\n",
       "      <td>0.000000</td>\n",
       "    </tr>\n",
       "    <tr>\n",
       "      <th>End_Lat</th>\n",
       "      <td>0</td>\n",
       "      <td>1516064</td>\n",
       "      <td>0.000000</td>\n",
       "    </tr>\n",
       "    <tr>\n",
       "      <th>End_Lng</th>\n",
       "      <td>0</td>\n",
       "      <td>1516064</td>\n",
       "      <td>0.000000</td>\n",
       "    </tr>\n",
       "    <tr>\n",
       "      <th>Distance(mi)</th>\n",
       "      <td>0</td>\n",
       "      <td>1516064</td>\n",
       "      <td>0.000000</td>\n",
       "    </tr>\n",
       "    <tr>\n",
       "      <th>Description</th>\n",
       "      <td>0</td>\n",
       "      <td>1516064</td>\n",
       "      <td>0.000000</td>\n",
       "    </tr>\n",
       "    <tr>\n",
       "      <th>Street</th>\n",
       "      <td>0</td>\n",
       "      <td>1516064</td>\n",
       "      <td>0.000000</td>\n",
       "    </tr>\n",
       "    <tr>\n",
       "      <th>Severity</th>\n",
       "      <td>0</td>\n",
       "      <td>1516064</td>\n",
       "      <td>0.000000</td>\n",
       "    </tr>\n",
       "    <tr>\n",
       "      <th>Side</th>\n",
       "      <td>0</td>\n",
       "      <td>1516064</td>\n",
       "      <td>0.000000</td>\n",
       "    </tr>\n",
       "    <tr>\n",
       "      <th>County</th>\n",
       "      <td>0</td>\n",
       "      <td>1516064</td>\n",
       "      <td>0.000000</td>\n",
       "    </tr>\n",
       "    <tr>\n",
       "      <th>ID</th>\n",
       "      <td>0</td>\n",
       "      <td>1516064</td>\n",
       "      <td>0.000000</td>\n",
       "    </tr>\n",
       "  </tbody>\n",
       "</table>\n",
       "</div>"
      ],
      "text/plain": [
       "                       missing    total    percent\n",
       "Number                 1046095  1516064  69.000715\n",
       "Precipitation(in)       510549  1516064  33.675953\n",
       "Wind_Chill(F)           449316  1516064  29.637007\n",
       "Wind_Speed(mph)         128862  1516064   8.499773\n",
       "Humidity(%)              45509  1516064   3.001786\n",
       "Visibility(mi)           44211  1516064   2.916170\n",
       "Weather_Condition        44007  1516064   2.902714\n",
       "Temperature(F)           43033  1516064   2.838469\n",
       "Wind_Direction           41858  1516064   2.760965\n",
       "Pressure(in)             36274  1516064   2.392643\n",
       "Weather_Timestamp        30264  1516064   1.996222\n",
       "Airport_Code              4248  1516064   0.280199\n",
       "Timezone                  2302  1516064   0.151841\n",
       "Zipcode                    935  1516064   0.061673\n",
       "Sunrise_Sunset              83  1516064   0.005475\n",
       "Civil_Twilight              83  1516064   0.005475\n",
       "Nautical_Twilight           83  1516064   0.005475\n",
       "Astronomical_Twilight       83  1516064   0.005475\n",
       "City                        83  1516064   0.005475\n",
       "Country                      0  1516064   0.000000\n",
       "Give_Way                     0  1516064   0.000000\n",
       "Start_Time                   0  1516064   0.000000\n",
       "End_Time                     0  1516064   0.000000\n",
       "Start_Lat                    0  1516064   0.000000\n",
       "Turning_Loop                 0  1516064   0.000000\n",
       "Traffic_Signal               0  1516064   0.000000\n",
       "Traffic_Calming              0  1516064   0.000000\n",
       "Stop                         0  1516064   0.000000\n",
       "Station                      0  1516064   0.000000\n",
       "Roundabout                   0  1516064   0.000000\n",
       "Railway                      0  1516064   0.000000\n",
       "No_Exit                      0  1516064   0.000000\n",
       "Junction                     0  1516064   0.000000\n",
       "Crossing                     0  1516064   0.000000\n",
       "State                        0  1516064   0.000000\n",
       "Bump                         0  1516064   0.000000\n",
       "Amenity                      0  1516064   0.000000\n",
       "Start_Lng                    0  1516064   0.000000\n",
       "End_Lat                      0  1516064   0.000000\n",
       "End_Lng                      0  1516064   0.000000\n",
       "Distance(mi)                 0  1516064   0.000000\n",
       "Description                  0  1516064   0.000000\n",
       "Street                       0  1516064   0.000000\n",
       "Severity                     0  1516064   0.000000\n",
       "Side                         0  1516064   0.000000\n",
       "County                       0  1516064   0.000000\n",
       "ID                           0  1516064   0.000000"
      ]
     },
     "execution_count": 87,
     "metadata": {},
     "output_type": "execute_result"
    }
   ],
   "source": [
    "df.stb.missing()"
   ]
  },
  {
   "cell_type": "code",
   "execution_count": 88,
   "id": "17297e2e",
   "metadata": {
    "scrolled": false
   },
   "outputs": [
    {
     "data": {
      "text/html": [
       "<div>\n",
       "<style scoped>\n",
       "    .dataframe tbody tr th:only-of-type {\n",
       "        vertical-align: middle;\n",
       "    }\n",
       "\n",
       "    .dataframe tbody tr th {\n",
       "        vertical-align: top;\n",
       "    }\n",
       "\n",
       "    .dataframe thead th {\n",
       "        text-align: right;\n",
       "    }\n",
       "</style>\n",
       "<table border=\"1\" class=\"dataframe\">\n",
       "  <thead>\n",
       "    <tr style=\"text-align: right;\">\n",
       "      <th></th>\n",
       "      <th>count</th>\n",
       "      <th>unique</th>\n",
       "      <th>most_freq</th>\n",
       "      <th>most_freq_count</th>\n",
       "      <th>least_freq</th>\n",
       "      <th>least_freq_count</th>\n",
       "    </tr>\n",
       "  </thead>\n",
       "  <tbody>\n",
       "    <tr>\n",
       "      <th>Number</th>\n",
       "      <td>469969</td>\n",
       "      <td>37592</td>\n",
       "      <td>1.0</td>\n",
       "      <td>4752</td>\n",
       "      <td>46249.0</td>\n",
       "      <td>1</td>\n",
       "    </tr>\n",
       "    <tr>\n",
       "      <th>Precipitation(in)</th>\n",
       "      <td>1005515</td>\n",
       "      <td>187</td>\n",
       "      <td>0.0</td>\n",
       "      <td>903429</td>\n",
       "      <td>1.39</td>\n",
       "      <td>1</td>\n",
       "    </tr>\n",
       "    <tr>\n",
       "      <th>Wind_Chill(F)</th>\n",
       "      <td>1066748</td>\n",
       "      <td>883</td>\n",
       "      <td>57.0</td>\n",
       "      <td>24235</td>\n",
       "      <td>-42.2</td>\n",
       "      <td>1</td>\n",
       "    </tr>\n",
       "    <tr>\n",
       "      <th>Wind_Speed(mph)</th>\n",
       "      <td>1387202</td>\n",
       "      <td>121</td>\n",
       "      <td>0.0</td>\n",
       "      <td>202877</td>\n",
       "      <td>110.0</td>\n",
       "      <td>1</td>\n",
       "    </tr>\n",
       "    <tr>\n",
       "      <th>Humidity(%)</th>\n",
       "      <td>1470555</td>\n",
       "      <td>100</td>\n",
       "      <td>93.0</td>\n",
       "      <td>58126</td>\n",
       "      <td>1.0</td>\n",
       "      <td>11</td>\n",
       "    </tr>\n",
       "    <tr>\n",
       "      <th>Visibility(mi)</th>\n",
       "      <td>1471853</td>\n",
       "      <td>74</td>\n",
       "      <td>10.0</td>\n",
       "      <td>1178150</td>\n",
       "      <td>19.0</td>\n",
       "      <td>1</td>\n",
       "    </tr>\n",
       "    <tr>\n",
       "      <th>Weather_Condition</th>\n",
       "      <td>1472057</td>\n",
       "      <td>116</td>\n",
       "      <td>Fair</td>\n",
       "      <td>465252</td>\n",
       "      <td>Heavy Freezing Drizzle</td>\n",
       "      <td>1</td>\n",
       "    </tr>\n",
       "    <tr>\n",
       "      <th>Temperature(F)</th>\n",
       "      <td>1473031</td>\n",
       "      <td>775</td>\n",
       "      <td>59.0</td>\n",
       "      <td>32387</td>\n",
       "      <td>-15.3</td>\n",
       "      <td>1</td>\n",
       "    </tr>\n",
       "    <tr>\n",
       "      <th>Wind_Direction</th>\n",
       "      <td>1474206</td>\n",
       "      <td>24</td>\n",
       "      <td>CALM</td>\n",
       "      <td>202870</td>\n",
       "      <td>Variable</td>\n",
       "      <td>23038</td>\n",
       "    </tr>\n",
       "    <tr>\n",
       "      <th>Pressure(in)</th>\n",
       "      <td>1479790</td>\n",
       "      <td>1007</td>\n",
       "      <td>29.96</td>\n",
       "      <td>25265</td>\n",
       "      <td>31.14</td>\n",
       "      <td>1</td>\n",
       "    </tr>\n",
       "    <tr>\n",
       "      <th>Weather_Timestamp</th>\n",
       "      <td>1485800</td>\n",
       "      <td>331748</td>\n",
       "      <td>2020-12-16 13:53:00</td>\n",
       "      <td>468</td>\n",
       "      <td>2017-10-12 09:29:00</td>\n",
       "      <td>1</td>\n",
       "    </tr>\n",
       "    <tr>\n",
       "      <th>Airport_Code</th>\n",
       "      <td>1511816</td>\n",
       "      <td>1985</td>\n",
       "      <td>KCQT</td>\n",
       "      <td>30149</td>\n",
       "      <td>KHDO</td>\n",
       "      <td>1</td>\n",
       "    </tr>\n",
       "    <tr>\n",
       "      <th>Timezone</th>\n",
       "      <td>1513762</td>\n",
       "      <td>4</td>\n",
       "      <td>US/Eastern</td>\n",
       "      <td>587961</td>\n",
       "      <td>US/Mountain</td>\n",
       "      <td>96239</td>\n",
       "    </tr>\n",
       "    <tr>\n",
       "      <th>Zipcode</th>\n",
       "      <td>1515129</td>\n",
       "      <td>177196</td>\n",
       "      <td>91761</td>\n",
       "      <td>3617</td>\n",
       "      <td>32333-5582</td>\n",
       "      <td>1</td>\n",
       "    </tr>\n",
       "    <tr>\n",
       "      <th>Civil_Twilight</th>\n",
       "      <td>1515981</td>\n",
       "      <td>2</td>\n",
       "      <td>Day</td>\n",
       "      <td>969075</td>\n",
       "      <td>Night</td>\n",
       "      <td>546906</td>\n",
       "    </tr>\n",
       "    <tr>\n",
       "      <th>Astronomical_Twilight</th>\n",
       "      <td>1515981</td>\n",
       "      <td>2</td>\n",
       "      <td>Day</td>\n",
       "      <td>1090946</td>\n",
       "      <td>Night</td>\n",
       "      <td>425035</td>\n",
       "    </tr>\n",
       "    <tr>\n",
       "      <th>Nautical_Twilight</th>\n",
       "      <td>1515981</td>\n",
       "      <td>2</td>\n",
       "      <td>Day</td>\n",
       "      <td>1035103</td>\n",
       "      <td>Night</td>\n",
       "      <td>480878</td>\n",
       "    </tr>\n",
       "    <tr>\n",
       "      <th>City</th>\n",
       "      <td>1515981</td>\n",
       "      <td>10657</td>\n",
       "      <td>Los Angeles</td>\n",
       "      <td>39984</td>\n",
       "      <td>Harwich Port</td>\n",
       "      <td>1</td>\n",
       "    </tr>\n",
       "    <tr>\n",
       "      <th>Sunrise_Sunset</th>\n",
       "      <td>1515981</td>\n",
       "      <td>2</td>\n",
       "      <td>Day</td>\n",
       "      <td>909838</td>\n",
       "      <td>Night</td>\n",
       "      <td>606143</td>\n",
       "    </tr>\n",
       "    <tr>\n",
       "      <th>Start_Lat</th>\n",
       "      <td>1516064</td>\n",
       "      <td>590611</td>\n",
       "      <td>40.85306</td>\n",
       "      <td>255</td>\n",
       "      <td>40.532868</td>\n",
       "      <td>1</td>\n",
       "    </tr>\n",
       "    <tr>\n",
       "      <th>Start_Lng</th>\n",
       "      <td>1516064</td>\n",
       "      <td>603369</td>\n",
       "      <td>-80.206385</td>\n",
       "      <td>246</td>\n",
       "      <td>-80.20615</td>\n",
       "      <td>1</td>\n",
       "    </tr>\n",
       "    <tr>\n",
       "      <th>Distance(mi)</th>\n",
       "      <td>1516064</td>\n",
       "      <td>11514</td>\n",
       "      <td>0.0</td>\n",
       "      <td>400613</td>\n",
       "      <td>14.476</td>\n",
       "      <td>1</td>\n",
       "    </tr>\n",
       "    <tr>\n",
       "      <th>End_Lng</th>\n",
       "      <td>1516064</td>\n",
       "      <td>599916</td>\n",
       "      <td>-73.94408</td>\n",
       "      <td>262</td>\n",
       "      <td>-121.015553</td>\n",
       "      <td>1</td>\n",
       "    </tr>\n",
       "    <tr>\n",
       "      <th>Street</th>\n",
       "      <td>1516064</td>\n",
       "      <td>93048</td>\n",
       "      <td>I-5 N</td>\n",
       "      <td>26645</td>\n",
       "      <td>Native Dancer Dr</td>\n",
       "      <td>1</td>\n",
       "    </tr>\n",
       "    <tr>\n",
       "      <th>Start_Time</th>\n",
       "      <td>1516064</td>\n",
       "      <td>1037092</td>\n",
       "      <td>2020-12-16 13:53:25</td>\n",
       "      <td>109</td>\n",
       "      <td>2018-12-04 18:17:27</td>\n",
       "      <td>1</td>\n",
       "    </tr>\n",
       "    <tr>\n",
       "      <th>Description</th>\n",
       "      <td>1516064</td>\n",
       "      <td>527655</td>\n",
       "      <td>A crash has occurred causing no to minimum del...</td>\n",
       "      <td>2709</td>\n",
       "      <td>Closed at Edgewood Dr/E Baltimore St - Road cl...</td>\n",
       "      <td>1</td>\n",
       "    </tr>\n",
       "    <tr>\n",
       "      <th>County</th>\n",
       "      <td>1516064</td>\n",
       "      <td>1671</td>\n",
       "      <td>Los Angeles</td>\n",
       "      <td>138819</td>\n",
       "      <td>Sutton</td>\n",
       "      <td>1</td>\n",
       "    </tr>\n",
       "    <tr>\n",
       "      <th>End_Lat</th>\n",
       "      <td>1516064</td>\n",
       "      <td>587824</td>\n",
       "      <td>40.84992</td>\n",
       "      <td>257</td>\n",
       "      <td>40.841914</td>\n",
       "      <td>1</td>\n",
       "    </tr>\n",
       "    <tr>\n",
       "      <th>Country</th>\n",
       "      <td>1516064</td>\n",
       "      <td>1</td>\n",
       "      <td>US</td>\n",
       "      <td>1516064</td>\n",
       "      <td>US</td>\n",
       "      <td>1516064</td>\n",
       "    </tr>\n",
       "    <tr>\n",
       "      <th>State</th>\n",
       "      <td>1516064</td>\n",
       "      <td>49</td>\n",
       "      <td>CA</td>\n",
       "      <td>448833</td>\n",
       "      <td>SD</td>\n",
       "      <td>213</td>\n",
       "    </tr>\n",
       "    <tr>\n",
       "      <th>Turning_Loop</th>\n",
       "      <td>1516064</td>\n",
       "      <td>1</td>\n",
       "      <td>False</td>\n",
       "      <td>1516064</td>\n",
       "      <td>False</td>\n",
       "      <td>1516064</td>\n",
       "    </tr>\n",
       "    <tr>\n",
       "      <th>Amenity</th>\n",
       "      <td>1516064</td>\n",
       "      <td>2</td>\n",
       "      <td>False</td>\n",
       "      <td>1503661</td>\n",
       "      <td>True</td>\n",
       "      <td>12403</td>\n",
       "    </tr>\n",
       "    <tr>\n",
       "      <th>Bump</th>\n",
       "      <td>1516064</td>\n",
       "      <td>2</td>\n",
       "      <td>False</td>\n",
       "      <td>1515803</td>\n",
       "      <td>True</td>\n",
       "      <td>261</td>\n",
       "    </tr>\n",
       "    <tr>\n",
       "      <th>Crossing</th>\n",
       "      <td>1516064</td>\n",
       "      <td>2</td>\n",
       "      <td>False</td>\n",
       "      <td>1429681</td>\n",
       "      <td>True</td>\n",
       "      <td>86383</td>\n",
       "    </tr>\n",
       "    <tr>\n",
       "      <th>Give_Way</th>\n",
       "      <td>1516064</td>\n",
       "      <td>2</td>\n",
       "      <td>False</td>\n",
       "      <td>1512809</td>\n",
       "      <td>True</td>\n",
       "      <td>3255</td>\n",
       "    </tr>\n",
       "    <tr>\n",
       "      <th>Junction</th>\n",
       "      <td>1516064</td>\n",
       "      <td>2</td>\n",
       "      <td>False</td>\n",
       "      <td>1311566</td>\n",
       "      <td>True</td>\n",
       "      <td>204498</td>\n",
       "    </tr>\n",
       "    <tr>\n",
       "      <th>Side</th>\n",
       "      <td>1516064</td>\n",
       "      <td>2</td>\n",
       "      <td>R</td>\n",
       "      <td>1294562</td>\n",
       "      <td>L</td>\n",
       "      <td>221502</td>\n",
       "    </tr>\n",
       "    <tr>\n",
       "      <th>Railway</th>\n",
       "      <td>1516064</td>\n",
       "      <td>2</td>\n",
       "      <td>False</td>\n",
       "      <td>1503480</td>\n",
       "      <td>True</td>\n",
       "      <td>12584</td>\n",
       "    </tr>\n",
       "    <tr>\n",
       "      <th>No_Exit</th>\n",
       "      <td>1516064</td>\n",
       "      <td>2</td>\n",
       "      <td>False</td>\n",
       "      <td>1514335</td>\n",
       "      <td>True</td>\n",
       "      <td>1729</td>\n",
       "    </tr>\n",
       "    <tr>\n",
       "      <th>Station</th>\n",
       "      <td>1516064</td>\n",
       "      <td>2</td>\n",
       "      <td>False</td>\n",
       "      <td>1487917</td>\n",
       "      <td>True</td>\n",
       "      <td>28147</td>\n",
       "    </tr>\n",
       "    <tr>\n",
       "      <th>Stop</th>\n",
       "      <td>1516064</td>\n",
       "      <td>2</td>\n",
       "      <td>False</td>\n",
       "      <td>1498368</td>\n",
       "      <td>True</td>\n",
       "      <td>17696</td>\n",
       "    </tr>\n",
       "    <tr>\n",
       "      <th>Traffic_Calming</th>\n",
       "      <td>1516064</td>\n",
       "      <td>2</td>\n",
       "      <td>False</td>\n",
       "      <td>1515575</td>\n",
       "      <td>True</td>\n",
       "      <td>489</td>\n",
       "    </tr>\n",
       "    <tr>\n",
       "      <th>Traffic_Signal</th>\n",
       "      <td>1516064</td>\n",
       "      <td>2</td>\n",
       "      <td>False</td>\n",
       "      <td>1346095</td>\n",
       "      <td>True</td>\n",
       "      <td>169969</td>\n",
       "    </tr>\n",
       "    <tr>\n",
       "      <th>Roundabout</th>\n",
       "      <td>1516064</td>\n",
       "      <td>2</td>\n",
       "      <td>False</td>\n",
       "      <td>1516013</td>\n",
       "      <td>True</td>\n",
       "      <td>51</td>\n",
       "    </tr>\n",
       "    <tr>\n",
       "      <th>Severity</th>\n",
       "      <td>1516064</td>\n",
       "      <td>4</td>\n",
       "      <td>2</td>\n",
       "      <td>1212382</td>\n",
       "      <td>1</td>\n",
       "      <td>28178</td>\n",
       "    </tr>\n",
       "    <tr>\n",
       "      <th>End_Time</th>\n",
       "      <td>1516064</td>\n",
       "      <td>1161415</td>\n",
       "      <td>2017-05-15 15:22:55</td>\n",
       "      <td>73</td>\n",
       "      <td>2016-09-25 20:32:47</td>\n",
       "      <td>1</td>\n",
       "    </tr>\n",
       "    <tr>\n",
       "      <th>ID</th>\n",
       "      <td>1516064</td>\n",
       "      <td>1516064</td>\n",
       "      <td>A-3456914</td>\n",
       "      <td>1</td>\n",
       "      <td>A-3456914</td>\n",
       "      <td>1</td>\n",
       "    </tr>\n",
       "  </tbody>\n",
       "</table>\n",
       "</div>"
      ],
      "text/plain": [
       "                         count   unique  \\\n",
       "Number                  469969    37592   \n",
       "Precipitation(in)      1005515      187   \n",
       "Wind_Chill(F)          1066748      883   \n",
       "Wind_Speed(mph)        1387202      121   \n",
       "Humidity(%)            1470555      100   \n",
       "Visibility(mi)         1471853       74   \n",
       "Weather_Condition      1472057      116   \n",
       "Temperature(F)         1473031      775   \n",
       "Wind_Direction         1474206       24   \n",
       "Pressure(in)           1479790     1007   \n",
       "Weather_Timestamp      1485800   331748   \n",
       "Airport_Code           1511816     1985   \n",
       "Timezone               1513762        4   \n",
       "Zipcode                1515129   177196   \n",
       "Civil_Twilight         1515981        2   \n",
       "Astronomical_Twilight  1515981        2   \n",
       "Nautical_Twilight      1515981        2   \n",
       "City                   1515981    10657   \n",
       "Sunrise_Sunset         1515981        2   \n",
       "Start_Lat              1516064   590611   \n",
       "Start_Lng              1516064   603369   \n",
       "Distance(mi)           1516064    11514   \n",
       "End_Lng                1516064   599916   \n",
       "Street                 1516064    93048   \n",
       "Start_Time             1516064  1037092   \n",
       "Description            1516064   527655   \n",
       "County                 1516064     1671   \n",
       "End_Lat                1516064   587824   \n",
       "Country                1516064        1   \n",
       "State                  1516064       49   \n",
       "Turning_Loop           1516064        1   \n",
       "Amenity                1516064        2   \n",
       "Bump                   1516064        2   \n",
       "Crossing               1516064        2   \n",
       "Give_Way               1516064        2   \n",
       "Junction               1516064        2   \n",
       "Side                   1516064        2   \n",
       "Railway                1516064        2   \n",
       "No_Exit                1516064        2   \n",
       "Station                1516064        2   \n",
       "Stop                   1516064        2   \n",
       "Traffic_Calming        1516064        2   \n",
       "Traffic_Signal         1516064        2   \n",
       "Roundabout             1516064        2   \n",
       "Severity               1516064        4   \n",
       "End_Time               1516064  1161415   \n",
       "ID                     1516064  1516064   \n",
       "\n",
       "                                                               most_freq  \\\n",
       "Number                                                               1.0   \n",
       "Precipitation(in)                                                    0.0   \n",
       "Wind_Chill(F)                                                       57.0   \n",
       "Wind_Speed(mph)                                                      0.0   \n",
       "Humidity(%)                                                         93.0   \n",
       "Visibility(mi)                                                      10.0   \n",
       "Weather_Condition                                                   Fair   \n",
       "Temperature(F)                                                      59.0   \n",
       "Wind_Direction                                                      CALM   \n",
       "Pressure(in)                                                       29.96   \n",
       "Weather_Timestamp                                    2020-12-16 13:53:00   \n",
       "Airport_Code                                                        KCQT   \n",
       "Timezone                                                      US/Eastern   \n",
       "Zipcode                                                            91761   \n",
       "Civil_Twilight                                                       Day   \n",
       "Astronomical_Twilight                                                Day   \n",
       "Nautical_Twilight                                                    Day   \n",
       "City                                                         Los Angeles   \n",
       "Sunrise_Sunset                                                       Day   \n",
       "Start_Lat                                                       40.85306   \n",
       "Start_Lng                                                     -80.206385   \n",
       "Distance(mi)                                                         0.0   \n",
       "End_Lng                                                        -73.94408   \n",
       "Street                                                             I-5 N   \n",
       "Start_Time                                           2020-12-16 13:53:25   \n",
       "Description            A crash has occurred causing no to minimum del...   \n",
       "County                                                       Los Angeles   \n",
       "End_Lat                                                         40.84992   \n",
       "Country                                                               US   \n",
       "State                                                                 CA   \n",
       "Turning_Loop                                                       False   \n",
       "Amenity                                                            False   \n",
       "Bump                                                               False   \n",
       "Crossing                                                           False   \n",
       "Give_Way                                                           False   \n",
       "Junction                                                           False   \n",
       "Side                                                                   R   \n",
       "Railway                                                            False   \n",
       "No_Exit                                                            False   \n",
       "Station                                                            False   \n",
       "Stop                                                               False   \n",
       "Traffic_Calming                                                    False   \n",
       "Traffic_Signal                                                     False   \n",
       "Roundabout                                                         False   \n",
       "Severity                                                               2   \n",
       "End_Time                                             2017-05-15 15:22:55   \n",
       "ID                                                             A-3456914   \n",
       "\n",
       "                       most_freq_count  \\\n",
       "Number                            4752   \n",
       "Precipitation(in)               903429   \n",
       "Wind_Chill(F)                    24235   \n",
       "Wind_Speed(mph)                 202877   \n",
       "Humidity(%)                      58126   \n",
       "Visibility(mi)                 1178150   \n",
       "Weather_Condition               465252   \n",
       "Temperature(F)                   32387   \n",
       "Wind_Direction                  202870   \n",
       "Pressure(in)                     25265   \n",
       "Weather_Timestamp                  468   \n",
       "Airport_Code                     30149   \n",
       "Timezone                        587961   \n",
       "Zipcode                           3617   \n",
       "Civil_Twilight                  969075   \n",
       "Astronomical_Twilight          1090946   \n",
       "Nautical_Twilight              1035103   \n",
       "City                             39984   \n",
       "Sunrise_Sunset                  909838   \n",
       "Start_Lat                          255   \n",
       "Start_Lng                          246   \n",
       "Distance(mi)                    400613   \n",
       "End_Lng                            262   \n",
       "Street                           26645   \n",
       "Start_Time                         109   \n",
       "Description                       2709   \n",
       "County                          138819   \n",
       "End_Lat                            257   \n",
       "Country                        1516064   \n",
       "State                           448833   \n",
       "Turning_Loop                   1516064   \n",
       "Amenity                        1503661   \n",
       "Bump                           1515803   \n",
       "Crossing                       1429681   \n",
       "Give_Way                       1512809   \n",
       "Junction                       1311566   \n",
       "Side                           1294562   \n",
       "Railway                        1503480   \n",
       "No_Exit                        1514335   \n",
       "Station                        1487917   \n",
       "Stop                           1498368   \n",
       "Traffic_Calming                1515575   \n",
       "Traffic_Signal                 1346095   \n",
       "Roundabout                     1516013   \n",
       "Severity                       1212382   \n",
       "End_Time                            73   \n",
       "ID                                   1   \n",
       "\n",
       "                                                              least_freq  \\\n",
       "Number                                                           46249.0   \n",
       "Precipitation(in)                                                   1.39   \n",
       "Wind_Chill(F)                                                      -42.2   \n",
       "Wind_Speed(mph)                                                    110.0   \n",
       "Humidity(%)                                                          1.0   \n",
       "Visibility(mi)                                                      19.0   \n",
       "Weather_Condition                                 Heavy Freezing Drizzle   \n",
       "Temperature(F)                                                     -15.3   \n",
       "Wind_Direction                                                  Variable   \n",
       "Pressure(in)                                                       31.14   \n",
       "Weather_Timestamp                                    2017-10-12 09:29:00   \n",
       "Airport_Code                                                        KHDO   \n",
       "Timezone                                                     US/Mountain   \n",
       "Zipcode                                                       32333-5582   \n",
       "Civil_Twilight                                                     Night   \n",
       "Astronomical_Twilight                                              Night   \n",
       "Nautical_Twilight                                                  Night   \n",
       "City                                                        Harwich Port   \n",
       "Sunrise_Sunset                                                     Night   \n",
       "Start_Lat                                                      40.532868   \n",
       "Start_Lng                                                      -80.20615   \n",
       "Distance(mi)                                                      14.476   \n",
       "End_Lng                                                      -121.015553   \n",
       "Street                                                  Native Dancer Dr   \n",
       "Start_Time                                           2018-12-04 18:17:27   \n",
       "Description            Closed at Edgewood Dr/E Baltimore St - Road cl...   \n",
       "County                                                            Sutton   \n",
       "End_Lat                                                        40.841914   \n",
       "Country                                                               US   \n",
       "State                                                                 SD   \n",
       "Turning_Loop                                                       False   \n",
       "Amenity                                                             True   \n",
       "Bump                                                                True   \n",
       "Crossing                                                            True   \n",
       "Give_Way                                                            True   \n",
       "Junction                                                            True   \n",
       "Side                                                                   L   \n",
       "Railway                                                             True   \n",
       "No_Exit                                                             True   \n",
       "Station                                                             True   \n",
       "Stop                                                                True   \n",
       "Traffic_Calming                                                     True   \n",
       "Traffic_Signal                                                      True   \n",
       "Roundabout                                                          True   \n",
       "Severity                                                               1   \n",
       "End_Time                                             2016-09-25 20:32:47   \n",
       "ID                                                             A-3456914   \n",
       "\n",
       "                       least_freq_count  \n",
       "Number                                1  \n",
       "Precipitation(in)                     1  \n",
       "Wind_Chill(F)                         1  \n",
       "Wind_Speed(mph)                       1  \n",
       "Humidity(%)                          11  \n",
       "Visibility(mi)                        1  \n",
       "Weather_Condition                     1  \n",
       "Temperature(F)                        1  \n",
       "Wind_Direction                    23038  \n",
       "Pressure(in)                          1  \n",
       "Weather_Timestamp                     1  \n",
       "Airport_Code                          1  \n",
       "Timezone                          96239  \n",
       "Zipcode                               1  \n",
       "Civil_Twilight                   546906  \n",
       "Astronomical_Twilight            425035  \n",
       "Nautical_Twilight                480878  \n",
       "City                                  1  \n",
       "Sunrise_Sunset                   606143  \n",
       "Start_Lat                             1  \n",
       "Start_Lng                             1  \n",
       "Distance(mi)                          1  \n",
       "End_Lng                               1  \n",
       "Street                                1  \n",
       "Start_Time                            1  \n",
       "Description                           1  \n",
       "County                                1  \n",
       "End_Lat                               1  \n",
       "Country                         1516064  \n",
       "State                               213  \n",
       "Turning_Loop                    1516064  \n",
       "Amenity                           12403  \n",
       "Bump                                261  \n",
       "Crossing                          86383  \n",
       "Give_Way                           3255  \n",
       "Junction                         204498  \n",
       "Side                             221502  \n",
       "Railway                           12584  \n",
       "No_Exit                            1729  \n",
       "Station                           28147  \n",
       "Stop                              17696  \n",
       "Traffic_Calming                     489  \n",
       "Traffic_Signal                   169969  \n",
       "Roundabout                           51  \n",
       "Severity                          28178  \n",
       "End_Time                              1  \n",
       "ID                                    1  "
      ]
     },
     "execution_count": 88,
     "metadata": {},
     "output_type": "execute_result"
    }
   ],
   "source": [
    "df.stb.counts().sort_values('count')"
   ]
  },
  {
   "cell_type": "code",
   "execution_count": 89,
   "id": "e611199a",
   "metadata": {},
   "outputs": [
    {
     "data": {
      "text/plain": [
       "<AxesSubplot:xlabel='Start_Lat', ylabel='End_Lat'>"
      ]
     },
     "execution_count": 89,
     "metadata": {},
     "output_type": "execute_result"
    },
    {
     "data": {
      "image/png": "[encoded data removed]",
      "text/plain": [
       "<Figure size 432x288 with 1 Axes>"
      ]
     },
     "metadata": {
      "needs_background": "light"
     },
     "output_type": "display_data"
    }
   ],
   "source": [
    "sns.scatterplot(x='Start_Lat', y='End_Lat', data = df)"
   ]
  },
  {
   "cell_type": "code",
   "execution_count": 90,
   "id": "ada24d3b",
   "metadata": {},
   "outputs": [
    {
     "data": {
      "text/plain": [
       "<AxesSubplot:xlabel='Start_Lng', ylabel='End_Lng'>"
      ]
     },
     "execution_count": 90,
     "metadata": {},
     "output_type": "execute_result"
    },
    {
     "data": {
      "image/png": "[encoded data removed]",
      "text/plain": [
       "<Figure size 432x288 with 1 Axes>"
      ]
     },
     "metadata": {
      "needs_background": "light"
     },
     "output_type": "display_data"
    }
   ],
   "source": [
    "sns.scatterplot(x='Start_Lng', y='End_Lng', data = df)"
   ]
  },
  {
   "cell_type": "code",
   "execution_count": 91,
   "id": "8338905c",
   "metadata": {},
   "outputs": [],
   "source": [
    "object_col = df.columns[df.dtypes == 'object']"
   ]
  },
  {
   "cell_type": "code",
   "execution_count": 92,
   "id": "b8848d7f",
   "metadata": {},
   "outputs": [],
   "source": [
    "#Convert object dtype to category\n",
    "df[object_col] = df[object_col].astype('category')"
   ]
  },
  {
   "cell_type": "code",
   "execution_count": 93,
   "id": "8538631c",
   "metadata": {},
   "outputs": [],
   "source": [
    "df.drop(['End_Lat','End_Lng','Country','Turning_Loop','Number','Precipitation(in)','Wind_Chill(F)'], axis = 1, inplace = True)"
   ]
  },
  {
   "cell_type": "code",
   "execution_count": 94,
   "id": "ab5cde46",
   "metadata": {},
   "outputs": [
    {
     "data": {
      "text/plain": [
       "ID                       category\n",
       "Severity                    int64\n",
       "Start_Time               category\n",
       "End_Time                 category\n",
       "Start_Lat                 float64\n",
       "Start_Lng                 float64\n",
       "Distance(mi)              float64\n",
       "Description              category\n",
       "Street                   category\n",
       "Side                     category\n",
       "City                     category\n",
       "County                   category\n",
       "State                    category\n",
       "Zipcode                  category\n",
       "Timezone                 category\n",
       "Airport_Code             category\n",
       "Weather_Timestamp        category\n",
       "Temperature(F)            float64\n",
       "Humidity(%)               float64\n",
       "Pressure(in)              float64\n",
       "Visibility(mi)            float64\n",
       "Wind_Direction           category\n",
       "Wind_Speed(mph)           float64\n",
       "Weather_Condition        category\n",
       "Amenity                      bool\n",
       "Bump                         bool\n",
       "Crossing                     bool\n",
       "Give_Way                     bool\n",
       "Junction                     bool\n",
       "No_Exit                      bool\n",
       "Railway                      bool\n",
       "Roundabout                   bool\n",
       "Station                      bool\n",
       "Stop                         bool\n",
       "Traffic_Calming              bool\n",
       "Traffic_Signal               bool\n",
       "Sunrise_Sunset           category\n",
       "Civil_Twilight           category\n",
       "Nautical_Twilight        category\n",
       "Astronomical_Twilight    category\n",
       "dtype: object"
      ]
     },
     "execution_count": 94,
     "metadata": {},
     "output_type": "execute_result"
    }
   ],
   "source": [
    "df.dtypes"
   ]
  },
  {
   "cell_type": "code",
   "execution_count": 95,
   "id": "17bcb5c5",
   "metadata": {},
   "outputs": [
    {
     "data": {
      "text/plain": [
       "Index(['Temperature(F)', 'Humidity(%)', 'Pressure(in)', 'Visibility(mi)',\n",
       "       'Wind_Speed(mph)'],\n",
       "      dtype='object')"
      ]
     },
     "execution_count": 95,
     "metadata": {},
     "output_type": "execute_result"
    }
   ],
   "source": [
    "num_missing = df[df.columns[df.isna().sum() != 0]]\n",
    "num_missing = num_missing.columns[num_missing.dtypes == 'float64']\n",
    "num_missing"
   ]
  },
  {
   "cell_type": "code",
   "execution_count": 96,
   "id": "8ff61cb6",
   "metadata": {},
   "outputs": [],
   "source": [
    "#replacing the null value by mean for the numerical columns\n",
    "\n",
    "for i in num_missing:\n",
    "    df[i].fillna(df[i].mean(), inplace = True)"
   ]
  },
  {
   "cell_type": "code",
   "execution_count": 97,
   "id": "fb231394",
   "metadata": {},
   "outputs": [
    {
     "data": {
      "text/plain": [
       "Index(['City', 'Zipcode', 'Timezone', 'Airport_Code', 'Weather_Timestamp',\n",
       "       'Wind_Direction', 'Weather_Condition', 'Sunrise_Sunset',\n",
       "       'Civil_Twilight', 'Nautical_Twilight', 'Astronomical_Twilight'],\n",
       "      dtype='object')"
      ]
     },
     "execution_count": 97,
     "metadata": {},
     "output_type": "execute_result"
    }
   ],
   "source": [
    "str_missing = df[df.columns[df.isna().sum() != 0]]\n",
    "str_missing = str_missing.columns[(str_missing.dtypes == 'category') | (str_missing.dtypes == 'object')]\n",
    "str_missing"
   ]
  },
  {
   "cell_type": "code",
   "execution_count": 98,
   "id": "7f6440ec",
   "metadata": {},
   "outputs": [],
   "source": [
    "#replacing the null value by mode for the categorical columns\n",
    "\n",
    "for i in str_missing:\n",
    "    df[i].fillna(df[i].value_counts().index[0], inplace = True)"
   ]
  },
  {
   "cell_type": "code",
   "execution_count": 99,
   "id": "66337086",
   "metadata": {},
   "outputs": [
    {
     "data": {
      "text/plain": [
       "0"
      ]
     },
     "execution_count": 99,
     "metadata": {},
     "output_type": "execute_result"
    }
   ],
   "source": [
    "df.isna().sum().sum()"
   ]
  },
  {
   "cell_type": "markdown",
   "id": "dbf772c4",
   "metadata": {},
   "source": [
    "### Exploratory Analysis and Visualisation"
   ]
  },
  {
   "cell_type": "code",
   "execution_count": 100,
   "id": "3b7d6051",
   "metadata": {},
   "outputs": [],
   "source": [
    "df['Start_Time'] = pd.to_datetime(df['Start_Time'])"
   ]
  },
  {
   "cell_type": "code",
   "execution_count": 101,
   "id": "98b8abef",
   "metadata": {},
   "outputs": [],
   "source": [
    "df2 = df[['Start_Time']].copy()         #See on google why use .copy()\n",
    "                                        #Double square brackets create a dataframe instead of series"
   ]
  },
  {
   "cell_type": "code",
   "execution_count": 102,
   "id": "a9bb9886",
   "metadata": {},
   "outputs": [],
   "source": [
    "df2['Day'] = df2['Start_Time'].dt.day\n",
    "df2['Month'] = df2['Start_Time'].dt.month\n",
    "df2['Year'] = df2['Start_Time'].dt.year\n",
    "df2['Weekday'] = df2['Start_Time'].dt.weekday\n",
    "df2['Hour'] = df2['Start_Time'].dt.hour"
   ]
  },
  {
   "cell_type": "code",
   "execution_count": 103,
   "id": "ffacc4be",
   "metadata": {},
   "outputs": [
    {
     "data": {
      "text/html": [
       "<div>\n",
       "<style scoped>\n",
       "    .dataframe tbody tr th:only-of-type {\n",
       "        vertical-align: middle;\n",
       "    }\n",
       "\n",
       "    .dataframe tbody tr th {\n",
       "        vertical-align: top;\n",
       "    }\n",
       "\n",
       "    .dataframe thead th {\n",
       "        text-align: right;\n",
       "    }\n",
       "</style>\n",
       "<table border=\"1\" class=\"dataframe\">\n",
       "  <thead>\n",
       "    <tr style=\"text-align: right;\">\n",
       "      <th></th>\n",
       "      <th>Start_Time</th>\n",
       "      <th>Day</th>\n",
       "      <th>Month</th>\n",
       "      <th>Year</th>\n",
       "      <th>Weekday</th>\n",
       "      <th>Hour</th>\n",
       "    </tr>\n",
       "  </thead>\n",
       "  <tbody>\n",
       "    <tr>\n",
       "      <th>0</th>\n",
       "      <td>2016-02-08 00:37:08</td>\n",
       "      <td>8</td>\n",
       "      <td>2</td>\n",
       "      <td>2016</td>\n",
       "      <td>0</td>\n",
       "      <td>0</td>\n",
       "    </tr>\n",
       "    <tr>\n",
       "      <th>1</th>\n",
       "      <td>2016-02-08 05:56:20</td>\n",
       "      <td>8</td>\n",
       "      <td>2</td>\n",
       "      <td>2016</td>\n",
       "      <td>0</td>\n",
       "      <td>5</td>\n",
       "    </tr>\n",
       "    <tr>\n",
       "      <th>2</th>\n",
       "      <td>2016-02-08 06:15:39</td>\n",
       "      <td>8</td>\n",
       "      <td>2</td>\n",
       "      <td>2016</td>\n",
       "      <td>0</td>\n",
       "      <td>6</td>\n",
       "    </tr>\n",
       "    <tr>\n",
       "      <th>3</th>\n",
       "      <td>2016-02-08 06:15:39</td>\n",
       "      <td>8</td>\n",
       "      <td>2</td>\n",
       "      <td>2016</td>\n",
       "      <td>0</td>\n",
       "      <td>6</td>\n",
       "    </tr>\n",
       "    <tr>\n",
       "      <th>4</th>\n",
       "      <td>2016-02-08 06:51:45</td>\n",
       "      <td>8</td>\n",
       "      <td>2</td>\n",
       "      <td>2016</td>\n",
       "      <td>0</td>\n",
       "      <td>6</td>\n",
       "    </tr>\n",
       "  </tbody>\n",
       "</table>\n",
       "</div>"
      ],
      "text/plain": [
       "           Start_Time  Day  Month  Year  Weekday  Hour\n",
       "0 2016-02-08 00:37:08    8      2  2016        0     0\n",
       "1 2016-02-08 05:56:20    8      2  2016        0     5\n",
       "2 2016-02-08 06:15:39    8      2  2016        0     6\n",
       "3 2016-02-08 06:15:39    8      2  2016        0     6\n",
       "4 2016-02-08 06:51:45    8      2  2016        0     6"
      ]
     },
     "execution_count": 103,
     "metadata": {},
     "output_type": "execute_result"
    }
   ],
   "source": [
    "df2.head()"
   ]
  },
  {
   "cell_type": "code",
   "execution_count": 104,
   "id": "9416a67d",
   "metadata": {},
   "outputs": [
    {
     "name": "stderr",
     "output_type": "stream",
     "text": [
      "C:\\Users\\Ayush Gourisaria\\anaconda3\\lib\\site-packages\\seaborn\\_decorators.py:36: FutureWarning: Pass the following variable as a keyword arg: x. From version 0.12, the only valid positional argument will be `data`, and passing other arguments without an explicit keyword will result in an error or misinterpretation.\n",
      "  warnings.warn(\n"
     ]
    },
    {
     "data": {
      "text/plain": [
       "Text(0.5, 1.0, 'Number of Accidents per Hour of the Day')"
      ]
     },
     "execution_count": 104,
     "metadata": {},
     "output_type": "execute_result"
    },
    {
     "data": {
      "image/png": "[encoded data removed]",
      "text/plain": [
       "<Figure size 720x252 with 1 Axes>"
      ]
     },
     "metadata": {
      "needs_background": "light"
     },
     "output_type": "display_data"
    }
   ],
   "source": [
    "plt.figure(figsize = (10,3.5))\n",
    "sns.countplot(df2.Hour)\n",
    "plt.title('Number of Accidents per Hour of the Day')"
   ]
  },
  {
   "cell_type": "code",
   "execution_count": 105,
   "id": "1119e2b8",
   "metadata": {},
   "outputs": [
    {
     "name": "stderr",
     "output_type": "stream",
     "text": [
      "C:\\Users\\Ayush Gourisaria\\anaconda3\\lib\\site-packages\\seaborn\\_decorators.py:36: FutureWarning: Pass the following variable as a keyword arg: x. From version 0.12, the only valid positional argument will be `data`, and passing other arguments without an explicit keyword will result in an error or misinterpretation.\n",
      "  warnings.warn(\n"
     ]
    },
    {
     "data": {
      "text/plain": [
       "Text(0.5, 1.0, 'Number of Accidents per Day of the Week')"
      ]
     },
     "execution_count": 105,
     "metadata": {},
     "output_type": "execute_result"
    },
    {
     "data": {
      "image/png": "[encoded data removed]",
      "text/plain": [
       "<Figure size 720x252 with 1 Axes>"
      ]
     },
     "metadata": {
      "needs_background": "light"
     },
     "output_type": "display_data"
    }
   ],
   "source": [
    "plt.figure(figsize = (10,3.5))\n",
    "sns.countplot(df2.Weekday.replace([0,1,2,3,4,5,6],['Monday','Tuesday','Wednesday','Thursday','Friday',\n",
    "                                                   'Saturday','Sunday']), \n",
    "              order = ['Sunday','Monday','Tuesday','Wednesday','Thursday','Friday','Saturday'])\n",
    "plt.title('Number of Accidents per Day of the Week')"
   ]
  },
  {
   "cell_type": "code",
   "execution_count": 106,
   "id": "fecfa6cc",
   "metadata": {},
   "outputs": [
    {
     "name": "stderr",
     "output_type": "stream",
     "text": [
      "C:\\Users\\Ayush Gourisaria\\anaconda3\\lib\\site-packages\\seaborn\\_decorators.py:36: FutureWarning: Pass the following variable as a keyword arg: x. From version 0.12, the only valid positional argument will be `data`, and passing other arguments without an explicit keyword will result in an error or misinterpretation.\n",
      "  warnings.warn(\n"
     ]
    },
    {
     "data": {
      "text/plain": [
       "Text(0.5, 1.0, 'Number of Accidents per Day')"
      ]
     },
     "execution_count": 106,
     "metadata": {},
     "output_type": "execute_result"
    },
    {
     "data": {
      "image/png": "[encoded data removed]",
      "text/plain": [
       "<Figure size 720x252 with 1 Axes>"
      ]
     },
     "metadata": {
      "needs_background": "light"
     },
     "output_type": "display_data"
    }
   ],
   "source": [
    "plt.figure(figsize = (10,3.5))\n",
    "sns.countplot(df2.Day)\n",
    "plt.title('Number of Accidents per Day')"
   ]
  },
  {
   "cell_type": "code",
   "execution_count": 107,
   "id": "ea59fc25",
   "metadata": {},
   "outputs": [
    {
     "name": "stderr",
     "output_type": "stream",
     "text": [
      "C:\\Users\\Ayush Gourisaria\\anaconda3\\lib\\site-packages\\seaborn\\_decorators.py:36: FutureWarning: Pass the following variable as a keyword arg: x. From version 0.12, the only valid positional argument will be `data`, and passing other arguments without an explicit keyword will result in an error or misinterpretation.\n",
      "  warnings.warn(\n"
     ]
    },
    {
     "data": {
      "text/plain": [
       "Text(0.5, 1.0, 'Number of Accidents per Month')"
      ]
     },
     "execution_count": 107,
     "metadata": {},
     "output_type": "execute_result"
    },
    {
     "data": {
      "image/png": "[encoded data removed]",
      "text/plain": [
       "<Figure size 720x252 with 1 Axes>"
      ]
     },
     "metadata": {
      "needs_background": "light"
     },
     "output_type": "display_data"
    }
   ],
   "source": [
    "plt.figure(figsize = (10,3.5))\n",
    "sns.countplot(df2.Month)\n",
    "plt.title('Number of Accidents per Month')"
   ]
  },
  {
   "cell_type": "code",
   "execution_count": 108,
   "id": "61d4f50c",
   "metadata": {},
   "outputs": [
    {
     "name": "stderr",
     "output_type": "stream",
     "text": [
      "C:\\Users\\Ayush Gourisaria\\anaconda3\\lib\\site-packages\\seaborn\\_decorators.py:36: FutureWarning: Pass the following variable as a keyword arg: x. From version 0.12, the only valid positional argument will be `data`, and passing other arguments without an explicit keyword will result in an error or misinterpretation.\n",
      "  warnings.warn(\n"
     ]
    },
    {
     "data": {
      "text/plain": [
       "Text(0.5, 1.0, 'Number of Accidents per Year')"
      ]
     },
     "execution_count": 108,
     "metadata": {},
     "output_type": "execute_result"
    },
    {
     "data": {
      "image/png": "[encoded data removed]",
      "text/plain": [
       "<Figure size 720x252 with 1 Axes>"
      ]
     },
     "metadata": {
      "needs_background": "light"
     },
     "output_type": "display_data"
    }
   ],
   "source": [
    "plt.figure(figsize = (10,3.5))\n",
    "sns.countplot(df2.Year)\n",
    "plt.title('Number of Accidents per Year')"
   ]
  },
  {
   "cell_type": "code",
   "execution_count": 109,
   "id": "b3cadd73",
   "metadata": {},
   "outputs": [],
   "source": [
    "#States where maximum number of Accidents have occurred"
   ]
  },
  {
   "cell_type": "code",
   "execution_count": 110,
   "id": "325463e9",
   "metadata": {},
   "outputs": [
    {
     "data": {
      "text/plain": [
       "CA    448833\n",
       "FL    153007\n",
       "OR     87484\n",
       "TX     75142\n",
       "NY     60974\n",
       "MN     52345\n",
       "VA     51198\n",
       "NC     50159\n",
       "PA     42844\n",
       "IL     41709\n",
       "MD     35320\n",
       "UT     33218\n",
       "GA     31111\n",
       "AZ     30185\n",
       "NJ     29850\n",
       "SC     28090\n",
       "MI     27775\n",
       "WA     22999\n",
       "OH     22044\n",
       "TN     21874\n",
       "CO     19809\n",
       "LA     19250\n",
       "MO     16949\n",
       "CT     15194\n",
       "IN     11736\n",
       "AL      9375\n",
       "WI      7919\n",
       "MA      6121\n",
       "KY      5671\n",
       "OK      5592\n",
       "KS      5146\n",
       "IA      4780\n",
       "AR      4373\n",
       "ID      4061\n",
       "NH      3826\n",
       "DC      3788\n",
       "RI      3766\n",
       "NV      3681\n",
       "MT      3306\n",
       "WV      3242\n",
       "MS      2790\n",
       "DE      2331\n",
       "ME      2202\n",
       "NE      2178\n",
       "NM      1467\n",
       "ND       455\n",
       "VT       352\n",
       "WY       330\n",
       "SD       213\n",
       "Name: State, dtype: int64"
      ]
     },
     "execution_count": 110,
     "metadata": {},
     "output_type": "execute_result"
    }
   ],
   "source": [
    "df.State.value_counts()"
   ]
  },
  {
   "cell_type": "code",
   "execution_count": 111,
   "id": "2d27ff4d",
   "metadata": {},
   "outputs": [
    {
     "name": "stderr",
     "output_type": "stream",
     "text": [
      "C:\\Users\\Ayush Gourisaria\\anaconda3\\lib\\site-packages\\seaborn\\_decorators.py:36: FutureWarning: Pass the following variable as a keyword arg: x. From version 0.12, the only valid positional argument will be `data`, and passing other arguments without an explicit keyword will result in an error or misinterpretation.\n",
      "  warnings.warn(\n"
     ]
    },
    {
     "data": {
      "text/plain": [
       "Text(0.5, 1.0, 'Number of Accidents by State')"
      ]
     },
     "execution_count": 111,
     "metadata": {},
     "output_type": "execute_result"
    },
    {
     "data": {
      "image/png": "[encoded data removed]",
      "text/plain": [
       "<Figure size 1080x216 with 1 Axes>"
      ]
     },
     "metadata": {
      "needs_background": "light"
     },
     "output_type": "display_data"
    }
   ],
   "source": [
    "plt.figure(figsize = (15,3))\n",
    "sns.countplot(df.State, order = df.State.value_counts().index, palette = 'coolwarm')\n",
    "plt.tight_layout()\n",
    "plt.title('Number of Accidents by State')"
   ]
  },
  {
   "cell_type": "code",
   "execution_count": 112,
   "id": "eab089e8",
   "metadata": {},
   "outputs": [],
   "source": [
    "lat_lng = df.groupby([\"Start_Lat\",\"Start_Lng\"]).count()['Severity'].copy()     #Why .copy() is in last??\n",
    "lat_lng.sort_values(ascending = False, inplace = True)"
   ]
  },
  {
   "cell_type": "code",
   "execution_count": 113,
   "id": "a51276a6",
   "metadata": {
    "scrolled": true
   },
   "outputs": [
    {
     "data": {
      "text/plain": [
       "Start_Lat  Start_Lng  \n",
       "25.823117  -80.206385     246\n",
       "40.853060  -73.960110     243\n",
       "25.910063  -80.210076     220\n",
       "45.580470  -122.543580    181\n",
       "41.797330  -71.403560     149\n",
       "                         ... \n",
       "36.024636  -78.509842       1\n",
       "36.024531  -118.810423      1\n",
       "36.024527  -83.469619       1\n",
       "36.024480  -78.479630       1\n",
       "49.000580  -116.181070      1\n",
       "Name: Severity, Length: 643251, dtype: int64"
      ]
     },
     "execution_count": 113,
     "metadata": {},
     "output_type": "execute_result"
    }
   ],
   "source": [
    "lat_lng"
   ]
  },
  {
   "cell_type": "code",
   "execution_count": 114,
   "id": "313844f8",
   "metadata": {},
   "outputs": [
    {
     "data": {
      "text/plain": [
       "'FL'"
      ]
     },
     "execution_count": 114,
     "metadata": {},
     "output_type": "execute_result"
    }
   ],
   "source": [
    "df[(df.Start_Lat == lat_lng.index[0][0]) | (df.Start_Lng == lat_lng.index[0][1])].State.iloc[0]"
   ]
  },
  {
   "cell_type": "code",
   "execution_count": 115,
   "id": "eab5b969",
   "metadata": {},
   "outputs": [
    {
     "name": "stderr",
     "output_type": "stream",
     "text": [
      "C:\\Users\\Ayush Gourisaria\\anaconda3\\lib\\site-packages\\seaborn\\_decorators.py:36: FutureWarning: Pass the following variable as a keyword arg: x. From version 0.12, the only valid positional argument will be `data`, and passing other arguments without an explicit keyword will result in an error or misinterpretation.\n",
      "  warnings.warn(\n"
     ]
    },
    {
     "data": {
      "text/plain": [
       "<AxesSubplot:xlabel='Sunrise_Sunset', ylabel='count'>"
      ]
     },
     "execution_count": 115,
     "metadata": {},
     "output_type": "execute_result"
    },
    {
     "data": {
      "image/png": "[encoded data removed]",
      "text/plain": [
       "<Figure size 432x288 with 1 Axes>"
      ]
     },
     "metadata": {
      "needs_background": "light"
     },
     "output_type": "display_data"
    }
   ],
   "source": [
    "sns.countplot(df['Sunrise_Sunset'])"
   ]
  },
  {
   "cell_type": "code",
   "execution_count": 116,
   "id": "62803764",
   "metadata": {
    "scrolled": true
   },
   "outputs": [],
   "source": [
    "by_weather = df['Weather_Condition'].value_counts()[df['Weather_Condition'].value_counts()>5000]"
   ]
  },
  {
   "cell_type": "code",
   "execution_count": 117,
   "id": "a9be7142",
   "metadata": {},
   "outputs": [
    {
     "data": {
      "text/plain": [
       "Text(0.5, 1.0, 'Accidents caused frequently under these Weather Conditions')"
      ]
     },
     "execution_count": 117,
     "metadata": {},
     "output_type": "execute_result"
    },
    {
     "data": {
      "image/png": "[encoded data removed]",
      "text/plain": [
       "<Figure size 720x216 with 1 Axes>"
      ]
     },
     "metadata": {
      "needs_background": "light"
     },
     "output_type": "display_data"
    }
   ],
   "source": [
    "plt.figure(figsize = (10,3))\n",
    "by_weather.plot(kind = 'bar')\n",
    "plt.title('Accidents caused frequently under these Weather Conditions')"
   ]
  },
  {
   "cell_type": "markdown",
   "id": "906fa596",
   "metadata": {},
   "source": [
    "### Deleting Unnecessary Columns"
   ]
  },
  {
   "cell_type": "code",
   "execution_count": 118,
   "id": "e7b575a1",
   "metadata": {},
   "outputs": [],
   "source": [
    "df['End_Time'] = pd.to_datetime(df['End_Time'])"
   ]
  },
  {
   "cell_type": "code",
   "execution_count": 119,
   "id": "31444b51",
   "metadata": {},
   "outputs": [
    {
     "name": "stdout",
     "output_type": "stream",
     "text": [
      "<class 'pandas.core.frame.DataFrame'>\n",
      "RangeIndex: 1516064 entries, 0 to 1516063\n",
      "Data columns (total 40 columns):\n",
      " #   Column                 Non-Null Count    Dtype         \n",
      "---  ------                 --------------    -----         \n",
      " 0   ID                     1516064 non-null  category      \n",
      " 1   Severity               1516064 non-null  int64         \n",
      " 2   Start_Time             1516064 non-null  datetime64[ns]\n",
      " 3   End_Time               1516064 non-null  datetime64[ns]\n",
      " 4   Start_Lat              1516064 non-null  float64       \n",
      " 5   Start_Lng              1516064 non-null  float64       \n",
      " 6   Distance(mi)           1516064 non-null  float64       \n",
      " 7   Description            1516064 non-null  category      \n",
      " 8   Street                 1516064 non-null  category      \n",
      " 9   Side                   1516064 non-null  category      \n",
      " 10  City                   1516064 non-null  category      \n",
      " 11  County                 1516064 non-null  category      \n",
      " 12  State                  1516064 non-null  category      \n",
      " 13  Zipcode                1516064 non-null  category      \n",
      " 14  Timezone               1516064 non-null  category      \n",
      " 15  Airport_Code           1516064 non-null  category      \n",
      " 16  Weather_Timestamp      1516064 non-null  category      \n",
      " 17  Temperature(F)         1516064 non-null  float64       \n",
      " 18  Humidity(%)            1516064 non-null  float64       \n",
      " 19  Pressure(in)           1516064 non-null  float64       \n",
      " 20  Visibility(mi)         1516064 non-null  float64       \n",
      " 21  Wind_Direction         1516064 non-null  category      \n",
      " 22  Wind_Speed(mph)        1516064 non-null  float64       \n",
      " 23  Weather_Condition      1516064 non-null  category      \n",
      " 24  Amenity                1516064 non-null  bool          \n",
      " 25  Bump                   1516064 non-null  bool          \n",
      " 26  Crossing               1516064 non-null  bool          \n",
      " 27  Give_Way               1516064 non-null  bool          \n",
      " 28  Junction               1516064 non-null  bool          \n",
      " 29  No_Exit                1516064 non-null  bool          \n",
      " 30  Railway                1516064 non-null  bool          \n",
      " 31  Roundabout             1516064 non-null  bool          \n",
      " 32  Station                1516064 non-null  bool          \n",
      " 33  Stop                   1516064 non-null  bool          \n",
      " 34  Traffic_Calming        1516064 non-null  bool          \n",
      " 35  Traffic_Signal         1516064 non-null  bool          \n",
      " 36  Sunrise_Sunset         1516064 non-null  category      \n",
      " 37  Civil_Twilight         1516064 non-null  category      \n",
      " 38  Nautical_Twilight      1516064 non-null  category      \n",
      " 39  Astronomical_Twilight  1516064 non-null  category      \n",
      "dtypes: bool(12), category(17), datetime64[ns](2), float64(8), int64(1)\n",
      "memory usage: 278.4 MB\n"
     ]
    }
   ],
   "source": [
    "df.info()"
   ]
  },
  {
   "cell_type": "code",
   "execution_count": 120,
   "id": "27277b74",
   "metadata": {},
   "outputs": [],
   "source": [
    "duration = df.End_Time - df.Start_Time"
   ]
  },
  {
   "cell_type": "code",
   "execution_count": 121,
   "id": "a2cad7ee",
   "metadata": {},
   "outputs": [
    {
     "data": {
      "text/plain": [
       "0         0 days 06:00:00\n",
       "1         0 days 06:00:00\n",
       "2         0 days 06:00:00\n",
       "3         0 days 06:00:00\n",
       "4         0 days 06:00:00\n",
       "                ...      \n",
       "1516059   0 days 00:28:36\n",
       "1516060   0 days 00:26:53\n",
       "1516061   0 days 00:28:28\n",
       "1516062   0 days 00:29:21\n",
       "1516063   0 days 00:29:25\n",
       "Length: 1516064, dtype: timedelta64[ns]"
      ]
     },
     "execution_count": 121,
     "metadata": {},
     "output_type": "execute_result"
    }
   ],
   "source": [
    "duration"
   ]
  },
  {
   "cell_type": "code",
   "execution_count": 122,
   "id": "0d2a6793",
   "metadata": {},
   "outputs": [],
   "source": [
    "#DURATION OF AFTERMATH OF THE ACCIDENT\n",
    "df['Duration'] = duration.apply(lambda a: a.components.days*24 + a.components.hours+ a.components.minutes/60)"
   ]
  },
  {
   "cell_type": "code",
   "execution_count": 123,
   "id": "4062af7f",
   "metadata": {},
   "outputs": [],
   "source": [
    "df.drop(['ID', 'Description','Start_Time', 'End_Time', 'Street', 'City', 'County', 'Zipcode', 'Weather_Timestamp',\n",
    "         'Timezone', 'Airport_Code', 'Civil_Twilight', 'Nautical_Twilight', 'Astronomical_Twilight'],axis = 1, inplace = True)"
   ]
  },
  {
   "cell_type": "code",
   "execution_count": 124,
   "id": "dbd73ae9",
   "metadata": {},
   "outputs": [
    {
     "data": {
      "text/html": [
       "<div>\n",
       "<style scoped>\n",
       "    .dataframe tbody tr th:only-of-type {\n",
       "        vertical-align: middle;\n",
       "    }\n",
       "\n",
       "    .dataframe tbody tr th {\n",
       "        vertical-align: top;\n",
       "    }\n",
       "\n",
       "    .dataframe thead th {\n",
       "        text-align: right;\n",
       "    }\n",
       "</style>\n",
       "<table border=\"1\" class=\"dataframe\">\n",
       "  <thead>\n",
       "    <tr style=\"text-align: right;\">\n",
       "      <th></th>\n",
       "      <th>Severity</th>\n",
       "      <th>Start_Lat</th>\n",
       "      <th>Start_Lng</th>\n",
       "      <th>Distance(mi)</th>\n",
       "      <th>Side</th>\n",
       "      <th>State</th>\n",
       "      <th>Temperature(F)</th>\n",
       "      <th>Humidity(%)</th>\n",
       "      <th>Pressure(in)</th>\n",
       "      <th>Visibility(mi)</th>\n",
       "      <th>...</th>\n",
       "      <th>Junction</th>\n",
       "      <th>No_Exit</th>\n",
       "      <th>Railway</th>\n",
       "      <th>Roundabout</th>\n",
       "      <th>Station</th>\n",
       "      <th>Stop</th>\n",
       "      <th>Traffic_Calming</th>\n",
       "      <th>Traffic_Signal</th>\n",
       "      <th>Sunrise_Sunset</th>\n",
       "      <th>Duration</th>\n",
       "    </tr>\n",
       "  </thead>\n",
       "  <tbody>\n",
       "    <tr>\n",
       "      <th>0</th>\n",
       "      <td>3</td>\n",
       "      <td>40.10891</td>\n",
       "      <td>-83.09286</td>\n",
       "      <td>3.230</td>\n",
       "      <td>R</td>\n",
       "      <td>OH</td>\n",
       "      <td>42.1</td>\n",
       "      <td>58.0</td>\n",
       "      <td>29.76</td>\n",
       "      <td>10.0</td>\n",
       "      <td>...</td>\n",
       "      <td>False</td>\n",
       "      <td>False</td>\n",
       "      <td>False</td>\n",
       "      <td>False</td>\n",
       "      <td>False</td>\n",
       "      <td>False</td>\n",
       "      <td>False</td>\n",
       "      <td>False</td>\n",
       "      <td>Night</td>\n",
       "      <td>6.0</td>\n",
       "    </tr>\n",
       "    <tr>\n",
       "      <th>1</th>\n",
       "      <td>2</td>\n",
       "      <td>39.86542</td>\n",
       "      <td>-84.06280</td>\n",
       "      <td>0.747</td>\n",
       "      <td>R</td>\n",
       "      <td>OH</td>\n",
       "      <td>36.9</td>\n",
       "      <td>91.0</td>\n",
       "      <td>29.68</td>\n",
       "      <td>10.0</td>\n",
       "      <td>...</td>\n",
       "      <td>False</td>\n",
       "      <td>False</td>\n",
       "      <td>False</td>\n",
       "      <td>False</td>\n",
       "      <td>False</td>\n",
       "      <td>False</td>\n",
       "      <td>False</td>\n",
       "      <td>False</td>\n",
       "      <td>Night</td>\n",
       "      <td>6.0</td>\n",
       "    </tr>\n",
       "    <tr>\n",
       "      <th>2</th>\n",
       "      <td>2</td>\n",
       "      <td>39.10266</td>\n",
       "      <td>-84.52468</td>\n",
       "      <td>0.055</td>\n",
       "      <td>R</td>\n",
       "      <td>OH</td>\n",
       "      <td>36.0</td>\n",
       "      <td>97.0</td>\n",
       "      <td>29.70</td>\n",
       "      <td>10.0</td>\n",
       "      <td>...</td>\n",
       "      <td>True</td>\n",
       "      <td>False</td>\n",
       "      <td>False</td>\n",
       "      <td>False</td>\n",
       "      <td>False</td>\n",
       "      <td>False</td>\n",
       "      <td>False</td>\n",
       "      <td>False</td>\n",
       "      <td>Night</td>\n",
       "      <td>6.0</td>\n",
       "    </tr>\n",
       "    <tr>\n",
       "      <th>3</th>\n",
       "      <td>2</td>\n",
       "      <td>39.10148</td>\n",
       "      <td>-84.52341</td>\n",
       "      <td>0.219</td>\n",
       "      <td>R</td>\n",
       "      <td>OH</td>\n",
       "      <td>36.0</td>\n",
       "      <td>97.0</td>\n",
       "      <td>29.70</td>\n",
       "      <td>10.0</td>\n",
       "      <td>...</td>\n",
       "      <td>True</td>\n",
       "      <td>False</td>\n",
       "      <td>False</td>\n",
       "      <td>False</td>\n",
       "      <td>False</td>\n",
       "      <td>False</td>\n",
       "      <td>False</td>\n",
       "      <td>False</td>\n",
       "      <td>Night</td>\n",
       "      <td>6.0</td>\n",
       "    </tr>\n",
       "    <tr>\n",
       "      <th>4</th>\n",
       "      <td>2</td>\n",
       "      <td>41.06213</td>\n",
       "      <td>-81.53784</td>\n",
       "      <td>0.123</td>\n",
       "      <td>R</td>\n",
       "      <td>OH</td>\n",
       "      <td>39.0</td>\n",
       "      <td>55.0</td>\n",
       "      <td>29.65</td>\n",
       "      <td>10.0</td>\n",
       "      <td>...</td>\n",
       "      <td>False</td>\n",
       "      <td>False</td>\n",
       "      <td>False</td>\n",
       "      <td>False</td>\n",
       "      <td>False</td>\n",
       "      <td>False</td>\n",
       "      <td>False</td>\n",
       "      <td>False</td>\n",
       "      <td>Night</td>\n",
       "      <td>6.0</td>\n",
       "    </tr>\n",
       "  </tbody>\n",
       "</table>\n",
       "<p>5 rows × 27 columns</p>\n",
       "</div>"
      ],
      "text/plain": [
       "   Severity  Start_Lat  Start_Lng  Distance(mi) Side State  Temperature(F)  \\\n",
       "0         3   40.10891  -83.09286         3.230    R    OH            42.1   \n",
       "1         2   39.86542  -84.06280         0.747    R    OH            36.9   \n",
       "2         2   39.10266  -84.52468         0.055    R    OH            36.0   \n",
       "3         2   39.10148  -84.52341         0.219    R    OH            36.0   \n",
       "4         2   41.06213  -81.53784         0.123    R    OH            39.0   \n",
       "\n",
       "   Humidity(%)  Pressure(in)  Visibility(mi)  ... Junction  No_Exit Railway  \\\n",
       "0         58.0         29.76            10.0  ...    False    False   False   \n",
       "1         91.0         29.68            10.0  ...    False    False   False   \n",
       "2         97.0         29.70            10.0  ...     True    False   False   \n",
       "3         97.0         29.70            10.0  ...     True    False   False   \n",
       "4         55.0         29.65            10.0  ...    False    False   False   \n",
       "\n",
       "   Roundabout  Station   Stop  Traffic_Calming  Traffic_Signal  \\\n",
       "0       False    False  False            False           False   \n",
       "1       False    False  False            False           False   \n",
       "2       False    False  False            False           False   \n",
       "3       False    False  False            False           False   \n",
       "4       False    False  False            False           False   \n",
       "\n",
       "   Sunrise_Sunset  Duration  \n",
       "0           Night       6.0  \n",
       "1           Night       6.0  \n",
       "2           Night       6.0  \n",
       "3           Night       6.0  \n",
       "4           Night       6.0  \n",
       "\n",
       "[5 rows x 27 columns]"
      ]
     },
     "execution_count": 124,
     "metadata": {},
     "output_type": "execute_result"
    }
   ],
   "source": [
    "df.head()"
   ]
  },
  {
   "cell_type": "code",
   "execution_count": 125,
   "id": "376776c8",
   "metadata": {},
   "outputs": [
    {
     "data": {
      "text/plain": [
       "['R', 'L']\n",
       "Categories (2, object): ['R', 'L']"
      ]
     },
     "execution_count": 125,
     "metadata": {},
     "output_type": "execute_result"
    }
   ],
   "source": [
    "df.Side.unique()"
   ]
  },
  {
   "cell_type": "code",
   "execution_count": 126,
   "id": "a2903e27",
   "metadata": {},
   "outputs": [
    {
     "data": {
      "text/plain": [
       "CALM        244728\n",
       "Calm         79192\n",
       "WNW          77743\n",
       "NW           75810\n",
       "W            72059\n",
       "SSW          69901\n",
       "WSW          68504\n",
       "NNW          68014\n",
       "S            67543\n",
       "SW           65626\n",
       "SSE          65058\n",
       "SE           54770\n",
       "N            53718\n",
       "E            52435\n",
       "ESE          51295\n",
       "ENE          51257\n",
       "NE           48355\n",
       "NNE          46509\n",
       "West         40611\n",
       "South        40596\n",
       "VAR          39670\n",
       "North        35568\n",
       "East         24064\n",
       "Variable     23038\n",
       "Name: Wind_Direction, dtype: int64"
      ]
     },
     "execution_count": 126,
     "metadata": {},
     "output_type": "execute_result"
    }
   ],
   "source": [
    "df.Wind_Direction.value_counts()"
   ]
  },
  {
   "cell_type": "code",
   "execution_count": 127,
   "id": "79fd06fa",
   "metadata": {},
   "outputs": [],
   "source": [
    "df.Wind_Direction = df.Wind_Direction.replace({'Calm': 'CALM', 'North':'N', 'South':'S', 'West':'W', 'East':'E', \n",
    "                                               'Variable': 'VAR'})"
   ]
  },
  {
   "cell_type": "code",
   "execution_count": 129,
   "id": "67d2ae94",
   "metadata": {},
   "outputs": [],
   "source": [
    "wc = df.Weather_Condition.value_counts()[df.Weather_Condition.value_counts()>5000].index"
   ]
  },
  {
   "cell_type": "code",
   "execution_count": 130,
   "id": "0adac521",
   "metadata": {},
   "outputs": [],
   "source": [
    "for i in wc:\n",
    "    df['Weather_Condition_{}'.format(i)] = df.Weather_Condition.apply(lambda a: int(a == i))"
   ]
  },
  {
   "cell_type": "code",
   "execution_count": 131,
   "id": "fb36f232",
   "metadata": {},
   "outputs": [],
   "source": [
    "df.drop(['Weather_Condition'], axis = 1, inplace = True)"
   ]
  },
  {
   "cell_type": "code",
   "execution_count": 132,
   "id": "7a10fdb2",
   "metadata": {},
   "outputs": [],
   "source": [
    "bool_col = df.dtypes[df.dtypes == 'bool'].index"
   ]
  },
  {
   "cell_type": "code",
   "execution_count": 133,
   "id": "a0f59074",
   "metadata": {},
   "outputs": [],
   "source": [
    "for i in bool_col:\n",
    "    df['{}_True'.format(i)] = df[i].apply(lambda a: int(a))"
   ]
  },
  {
   "cell_type": "code",
   "execution_count": 134,
   "id": "3a2e0d68",
   "metadata": {},
   "outputs": [],
   "source": [
    "df.drop(bool_col, axis = 1, inplace = True)"
   ]
  },
  {
   "cell_type": "code",
   "execution_count": 135,
   "id": "505e4374",
   "metadata": {},
   "outputs": [],
   "source": [
    "df = pd.get_dummies(df, drop_first = True, dtype = 'int64')"
   ]
  },
  {
   "cell_type": "code",
   "execution_count": 136,
   "id": "969ef557",
   "metadata": {},
   "outputs": [
    {
     "name": "stdout",
     "output_type": "stream",
     "text": [
      "<class 'pandas.core.frame.DataFrame'>\n",
      "RangeIndex: 1516064 entries, 0 to 1516063\n",
      "Columns: 103 entries, Severity to Sunrise_Sunset_Night\n",
      "dtypes: float64(9), int64(94)\n",
      "memory usage: 1.2 GB\n"
     ]
    }
   ],
   "source": [
    "df.info()"
   ]
  },
  {
   "cell_type": "markdown",
   "id": "71f55cf9",
   "metadata": {},
   "source": [
    "### Machine Learning Model to predict the Location"
   ]
  },
  {
   "cell_type": "code",
   "execution_count": 137,
   "id": "21b792e5",
   "metadata": {},
   "outputs": [],
   "source": [
    "from sklearn.model_selection import train_test_split"
   ]
  },
  {
   "cell_type": "code",
   "execution_count": 138,
   "id": "1a8c4fd3",
   "metadata": {},
   "outputs": [],
   "source": [
    "y = df[['Start_Lat', 'Start_Lng']]\n",
    "X = df.drop(['Start_Lat', 'Start_Lng'], axis = 1)"
   ]
  },
  {
   "cell_type": "code",
   "execution_count": 139,
   "id": "137bbf0c",
   "metadata": {},
   "outputs": [],
   "source": [
    "X_train, X_test, y_train, y_test = train_test_split(X, y, test_size = 0.3, random_state = 0)"
   ]
  },
  {
   "cell_type": "code",
   "execution_count": 140,
   "id": "b57071d5",
   "metadata": {},
   "outputs": [],
   "source": [
    "from sklearn.linear_model import LinearRegression"
   ]
  },
  {
   "cell_type": "code",
   "execution_count": 141,
   "id": "7f45ebdc",
   "metadata": {},
   "outputs": [],
   "source": [
    "lr_lat = LinearRegression()\n",
    "lr_lng = LinearRegression()\n",
    "lr = LinearRegression()"
   ]
  },
  {
   "cell_type": "code",
   "execution_count": 142,
   "id": "bec0e941",
   "metadata": {},
   "outputs": [
    {
     "data": {
      "text/plain": [
       "LinearRegression()"
      ]
     },
     "execution_count": 142,
     "metadata": {},
     "output_type": "execute_result"
    }
   ],
   "source": [
    "lr_lat.fit(X_train, y_train.Start_Lat)"
   ]
  },
  {
   "cell_type": "code",
   "execution_count": 143,
   "id": "4d681e99",
   "metadata": {},
   "outputs": [],
   "source": [
    "pred_lat = lr_lat.predict(X_test)"
   ]
  },
  {
   "cell_type": "code",
   "execution_count": 144,
   "id": "bd11dd3f",
   "metadata": {},
   "outputs": [
    {
     "data": {
      "text/plain": [
       "0.9303628686152251"
      ]
     },
     "execution_count": 144,
     "metadata": {},
     "output_type": "execute_result"
    }
   ],
   "source": [
    "lr_lat.score(X_test, y_test.Start_Lat)"
   ]
  },
  {
   "cell_type": "code",
   "execution_count": 145,
   "id": "a041c538",
   "metadata": {},
   "outputs": [
    {
     "data": {
      "text/plain": [
       "LinearRegression()"
      ]
     },
     "execution_count": 145,
     "metadata": {},
     "output_type": "execute_result"
    }
   ],
   "source": [
    "lr_lng.fit(X_train, y_train.Start_Lng)"
   ]
  },
  {
   "cell_type": "code",
   "execution_count": 146,
   "id": "cff0ed17",
   "metadata": {},
   "outputs": [],
   "source": [
    "pred_lng = lr_lng.predict(X_test)"
   ]
  },
  {
   "cell_type": "code",
   "execution_count": 147,
   "id": "e33ae52b",
   "metadata": {
    "scrolled": true
   },
   "outputs": [
    {
     "data": {
      "text/plain": [
       "0.9935680250991635"
      ]
     },
     "execution_count": 147,
     "metadata": {},
     "output_type": "execute_result"
    }
   ],
   "source": [
    "lr_lng.score(X_test, y_test.Start_Lng)"
   ]
  },
  {
   "cell_type": "code",
   "execution_count": 148,
   "id": "bdcad5b5",
   "metadata": {},
   "outputs": [
    {
     "data": {
      "text/plain": [
       "LinearRegression()"
      ]
     },
     "execution_count": 148,
     "metadata": {},
     "output_type": "execute_result"
    }
   ],
   "source": [
    "lr.fit(X_train, y_train)"
   ]
  },
  {
   "cell_type": "code",
   "execution_count": 149,
   "id": "20cfdac4",
   "metadata": {},
   "outputs": [
    {
     "data": {
      "text/plain": [
       "0.9619654468571949"
      ]
     },
     "execution_count": 149,
     "metadata": {},
     "output_type": "execute_result"
    }
   ],
   "source": [
    "lr.score(X_test, y_test)"
   ]
  }
 ],
 "metadata": {
  "kernelspec": {
   "display_name": "Python 3",
   "language": "python",
   "name": "python3"
  },
  "language_info": {
   "codemirror_mode": {
    "name": "ipython",
    "version": 3
   },
   "file_extension": ".py",
   "mimetype": "text/x-python",
   "name": "python",
   "nbconvert_exporter": "python",
   "pygments_lexer": "ipython3",
   "version": "3.8.8"
  }
 },
 "nbformat": 4,
 "nbformat_minor": 5
}
